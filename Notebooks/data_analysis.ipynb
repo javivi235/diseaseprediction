{
 "cells": [
  {
   "cell_type": "code",
   "execution_count": 1,
   "id": "a49e1706-0226-403f-a92c-5849d0dbe732",
   "metadata": {},
   "outputs": [
    {
     "data": {
      "text/plain": [
       "\u001b[1;31mInit signature:\u001b[0m\n",
       "\u001b[0mPlaintextCorpusReader\u001b[0m\u001b[1;33m(\u001b[0m\u001b[1;33m\n",
       "\u001b[0m    \u001b[0mroot\u001b[0m\u001b[1;33m,\u001b[0m\u001b[1;33m\n",
       "\u001b[0m    \u001b[0mfileids\u001b[0m\u001b[1;33m,\u001b[0m\u001b[1;33m\n",
       "\u001b[0m    \u001b[0mword_tokenizer\u001b[0m\u001b[1;33m=\u001b[0m\u001b[0mWordPunctTokenizer\u001b[0m\u001b[1;33m(\u001b[0m\u001b[0mpattern\u001b[0m\u001b[1;33m=\u001b[0m\u001b[1;34m'\\\\w+|[^\\\\w\\\\s]+'\u001b[0m\u001b[1;33m,\u001b[0m \u001b[0mgaps\u001b[0m\u001b[1;33m=\u001b[0m\u001b[1;32mFalse\u001b[0m\u001b[1;33m,\u001b[0m \u001b[0mdiscard_empty\u001b[0m\u001b[1;33m=\u001b[0m\u001b[1;32mTrue\u001b[0m\u001b[1;33m,\u001b[0m \u001b[0mflags\u001b[0m\u001b[1;33m=\u001b[0m\u001b[0mre\u001b[0m\u001b[1;33m.\u001b[0m\u001b[0mUNICODE\u001b[0m\u001b[1;33m|\u001b[0m\u001b[0mre\u001b[0m\u001b[1;33m.\u001b[0m\u001b[0mMULTILINE\u001b[0m\u001b[1;33m|\u001b[0m\u001b[0mre\u001b[0m\u001b[1;33m.\u001b[0m\u001b[0mDOTALL\u001b[0m\u001b[1;33m)\u001b[0m\u001b[1;33m,\u001b[0m\u001b[1;33m\n",
       "\u001b[0m    \u001b[0msent_tokenizer\u001b[0m\u001b[1;33m=\u001b[0m\u001b[1;33m<\u001b[0m\u001b[0mnltk\u001b[0m\u001b[1;33m.\u001b[0m\u001b[0mtokenize\u001b[0m\u001b[1;33m.\u001b[0m\u001b[0mpunkt\u001b[0m\u001b[1;33m.\u001b[0m\u001b[0mPunktSentenceTokenizer\u001b[0m \u001b[0mobject\u001b[0m \u001b[0mat\u001b[0m \u001b[1;36m0x0000014849623D00\u001b[0m\u001b[1;33m>\u001b[0m\u001b[1;33m,\u001b[0m\u001b[1;33m\n",
       "\u001b[0m    \u001b[0mpara_block_reader\u001b[0m\u001b[1;33m=\u001b[0m\u001b[1;33m<\u001b[0m\u001b[0mfunction\u001b[0m \u001b[0mread_blankline_block\u001b[0m \u001b[0mat\u001b[0m \u001b[1;36m0x0000014849646940\u001b[0m\u001b[1;33m>\u001b[0m\u001b[1;33m,\u001b[0m\u001b[1;33m\n",
       "\u001b[0m    \u001b[0mencoding\u001b[0m\u001b[1;33m=\u001b[0m\u001b[1;34m'utf8'\u001b[0m\u001b[1;33m,\u001b[0m\u001b[1;33m\n",
       "\u001b[0m\u001b[1;33m)\u001b[0m\u001b[1;33m\u001b[0m\u001b[1;33m\u001b[0m\u001b[0m\n",
       "\u001b[1;31mDocstring:\u001b[0m     \n",
       "Reader for corpora that consist of plaintext documents.  Paragraphs\n",
       "are assumed to be split using blank lines.  Sentences and words can\n",
       "be tokenized using the default tokenizers, or by custom tokenizers\n",
       "specified as parameters to the constructor.\n",
       "\n",
       "This corpus reader can be customized (e.g., to skip preface\n",
       "sections of specific document formats) by creating a subclass and\n",
       "overriding the ``CorpusView`` class variable.\n",
       "\u001b[1;31mInit docstring:\u001b[0m\n",
       "Construct a new plaintext corpus reader for a set of documents\n",
       "located at the given root directory.  Example usage:\n",
       "\n",
       "    >>> root = '/usr/local/share/nltk_data/corpora/webtext/'\n",
       "    >>> reader = PlaintextCorpusReader(root, '.*\\.txt') # doctest: +SKIP\n",
       "\n",
       ":param root: The root directory for this corpus.\n",
       ":param fileids: A list or regexp specifying the fileids in this corpus.\n",
       ":param word_tokenizer: Tokenizer for breaking sentences or\n",
       "    paragraphs into words.\n",
       ":param sent_tokenizer: Tokenizer for breaking paragraphs\n",
       "    into words.\n",
       ":param para_block_reader: The block reader used to divide the\n",
       "    corpus into paragraph blocks.\n",
       "\u001b[1;31mFile:\u001b[0m           c:\\users\\javi\\anaconda3\\envs\\data_science\\lib\\site-packages\\nltk\\corpus\\reader\\plaintext.py\n",
       "\u001b[1;31mType:\u001b[0m           type\n",
       "\u001b[1;31mSubclasses:\u001b[0m     CategorizedPlaintextCorpusReader, EuroparlCorpusReader, UdhrCorpusReader\n"
      ]
     },
     "metadata": {},
     "output_type": "display_data"
    }
   ],
   "source": [
    "from nltk.corpus import PlaintextCorpusReader\n",
    "\n",
    "conditions_path = \"../Data/Conditions/\"\n",
    "NUMBER_OF_TOPICS = 5\n",
    "\n",
    "?PlaintextCorpusReader\n",
    "condition_books_train = PlaintextCorpusReader(conditions_path + \"Train/\", '.*.txt')\n",
    "condition_books_test = PlaintextCorpusReader(conditions_path + \"Test/\", '.*.txt')"
   ]
  },
  {
   "cell_type": "markdown",
   "id": "a5376ed2-db9c-41bb-9cc7-69a14b667353",
   "metadata": {},
   "source": [
    "We need to update our condition dictionary to work with the bookids"
   ]
  },
  {
   "cell_type": "code",
   "execution_count": 2,
   "id": "42c447e3-ad4d-4447-ad93-8bc207be97b7",
   "metadata": {},
   "outputs": [],
   "source": [
    "condition_books_dict = {f:n for n,f in enumerate(condition_books_train.fileids())}"
   ]
  },
  {
   "cell_type": "code",
   "execution_count": 3,
   "id": "6ee4c523-dbcb-4e5d-aeae-d68382ea05af",
   "metadata": {},
   "outputs": [
    {
     "name": "stdout",
     "output_type": "stream",
     "text": [
      "TRAINING CHUNK: \n",
      "acne.txt :\n",
      "Number of sentences: 31042\n",
      "Number of chunks: 621 \n",
      "\n",
      "TESTING CHUNK: \n",
      "acne.txt :\n",
      "Number of sentences: 10502\n",
      "Number of chunks: 211 \n",
      "\n",
      "TRAINING CHUNK: \n",
      "anxiety.txt :\n",
      "Number of sentences: 29236\n",
      "Number of chunks: 585 \n",
      "\n",
      "TESTING CHUNK: \n",
      "anxiety.txt :\n",
      "Number of sentences: 9428\n",
      "Number of chunks: 189 \n",
      "\n",
      "TRAINING CHUNK: \n",
      "birthcontrol.txt :\n",
      "Number of sentences: 170167\n",
      "Number of chunks: 3404 \n",
      "\n",
      "TESTING CHUNK: \n",
      "birthcontrol.txt :\n",
      "Number of sentences: 57036\n",
      "Number of chunks: 1141 \n",
      "\n",
      "TRAINING CHUNK: \n",
      "depression.txt :\n",
      "Number of sentences: 49024\n",
      "Number of chunks: 981 \n",
      "\n",
      "TESTING CHUNK: \n",
      "depression.txt :\n",
      "Number of sentences: 16945\n",
      "Number of chunks: 339 \n",
      "\n",
      "TRAINING CHUNK: \n",
      "pain.txt :\n",
      "Number of sentences: 24509\n",
      "Number of chunks: 491 \n",
      "\n",
      "TESTING CHUNK: \n",
      "pain.txt :\n",
      "Number of sentences: 8264\n",
      "Number of chunks: 166 \n",
      "\n"
     ]
    }
   ],
   "source": [
    "def get_chunks(l, n):\n",
    "    \"\"\"Yield successive n-sized chunks from l.\"\"\"\n",
    "    for i in range(0, len(l), n):\n",
    "        yield l[i:i + n]\n",
    "\n",
    "chunks_train = list()\n",
    "chunks_test = list()\n",
    "chunk_train_class = list()\n",
    "chunk_test_class = list()\n",
    "\n",
    "limit = 500\n",
    "size = 50\n",
    "\n",
    "for f in condition_books_train.fileids():\n",
    "    ################# For Training chunks ####################################\n",
    "    print(\"TRAINING CHUNK: \")\n",
    "    sentences = condition_books_train.sents(f)\n",
    "    print(f,\":\")\n",
    "    print('Number of sentences:',len(sentences))\n",
    "    \n",
    "    # create chunks\n",
    "    chunks_of_sents = [x for x in get_chunks(sentences,size)] # this is a list of lists of sentences, which are a list of tokens\n",
    "    chs = list()\n",
    "\n",
    "    \n",
    "    # regroup so to have a list of chunks which are strings\n",
    "    for c in chunks_of_sents:\n",
    "        grouped_chunk = list()\n",
    "        for s in c:\n",
    "            grouped_chunk.extend(s)\n",
    "        chs.append(\" \".join(grouped_chunk))\n",
    "    print(\"Number of chunks:\",len(chs),'\\n')\n",
    "    \n",
    "    # filter to the limit, to have the same number of chunks per book\n",
    "    chunks_train.extend(chs[:limit])\n",
    "    chunk_train_class.extend([condition_books_dict[f] for _ in range(len(chs[:limit]))])\n",
    "    ################ For Test chunks ############################################\n",
    "    print(\"TESTING CHUNK: \")\n",
    "    sentences = condition_books_test.sents(f)\n",
    "    print(f,\":\")\n",
    "    print('Number of sentences:',len(sentences))\n",
    "    \n",
    "    # create chunks\n",
    "    chunks_of_sents = [x for x in get_chunks(sentences,size)] # this is a list of lists of sentences, which are a list of tokens\n",
    "    chs = list()\n",
    "\n",
    "    \n",
    "    # regroup so to have a list of chunks which are strings\n",
    "    for c in chunks_of_sents:\n",
    "        grouped_chunk = list()\n",
    "        for s in c:\n",
    "            grouped_chunk.extend(s)\n",
    "        chs.append(\" \".join(grouped_chunk))\n",
    "    print(\"Number of chunks:\",len(chs),'\\n')\n",
    "    \n",
    "    # filter to the limit, to have the same number of chunks per book\n",
    "    chunks_test.extend(chs[:limit])\n",
    "    chunk_test_class.extend([condition_books_dict[f] for _ in range(len(chs[:limit]))])"
   ]
  },
  {
   "cell_type": "markdown",
   "id": "1b6b2584-35a7-4c28-8655-10a8bbfe5f48",
   "metadata": {},
   "source": [
    "Now we are going to make a pipeline to process the chunks we are going to find named entities and add them if they are compound, keep only words, lemmatize tokens, remove punctuation and stopwords"
   ]
  },
  {
   "cell_type": "code",
   "execution_count": 4,
   "id": "fa695b93-ac5d-471d-943a-2efaa660cc9f",
   "metadata": {},
   "outputs": [],
   "source": [
    "import spacy\n",
    "nlp = spacy.load('en_core_web_sm')\n",
    "\n",
    "STOPWORDS = spacy.lang.en.stop_words.STOP_WORDS\n",
    "\n",
    "processed_reviews = list()\n",
    "for review_doc in nlp.pipe(chunks_train, n_process=5, batch_size=10):\n",
    "\n",
    "    # Process document using Spacy NLP pipeline.\n",
    "    ents = review_doc.ents  # Named entities\n",
    "\n",
    "    # Keep only words (no numbers, no punctuation).\n",
    "    # Lemmatize tokens, remove punctuation and remove stopwords.\n",
    "    review_doc = [token.lemma_ for token in review_doc if token.is_alpha and not token.is_stop]\n",
    "\n",
    "    # Remove common words from a stopword list and keep only words of length 3 or more.\n",
    "    review_doc = [token for token in review_doc if token not in STOPWORDS and len(token) > 2]\n",
    "\n",
    "    # Add named entities, but only if they are a compound of more than one word.\n",
    "    review_doc.extend([str(entity) for entity in ents if len(entity) > 1])\n",
    "\n",
    "    processed_reviews.append(review_doc)"
   ]
  },
  {
   "cell_type": "markdown",
   "id": "33cb1154-b8bc-4ea9-b67d-9a5bbdc48cf0",
   "metadata": {},
   "source": [
    "Now we are going to add to our docs the bigrams that appear at least 15 times, as there could be 2 coorelated words that might be more meaningful together"
   ]
  },
  {
   "cell_type": "code",
   "execution_count": 5,
   "id": "c14b77f1-e077-4788-8f99-08f9051a0fdd",
   "metadata": {},
   "outputs": [
    {
     "name": "stderr",
     "output_type": "stream",
     "text": [
      "C:\\Users\\javi\\anaconda3\\envs\\data_science\\lib\\site-packages\\gensim\\similarities\\__init__.py:15: UserWarning: The gensim.similarities.levenshtein submodule is disabled, because the optional Levenshtein package <https://pypi.org/project/python-Levenshtein/> is unavailable. Install Levenhstein (e.g. `pip install python-Levenshtein`) to suppress this warning.\n",
      "  warnings.warn(msg)\n"
     ]
    }
   ],
   "source": [
    "# Add bigrams too\n",
    "from gensim.models.phrases import Phrases\n",
    "\n",
    "# Add bigrams to docs (only ones that appear 15 times or more).\n",
    "bigram = Phrases(processed_reviews, min_count=15)\n",
    "\n",
    "for idx in range(len(processed_reviews)):\n",
    "    for token in bigram[processed_reviews[idx]]:\n",
    "        if '_' in token:\n",
    "            # Token is a bigram, add to document.\n",
    "            processed_reviews[idx].append(token)"
   ]
  },
  {
   "cell_type": "markdown",
   "id": "eb4f1430-2b30-436d-8cdf-3d548f486782",
   "metadata": {},
   "source": [
    "Now we are going to filter words that appear under a min count and words that could have a too high frequency rate, then we will create our bag of words!"
   ]
  },
  {
   "cell_type": "code",
   "execution_count": 6,
   "id": "ef468002-8c21-4920-a8a9-1bfa4d342630",
   "metadata": {},
   "outputs": [
    {
     "name": "stdout",
     "output_type": "stream",
     "text": [
      "Number of unique tokens: 8094\n",
      "Number of chunks: 2491\n"
     ]
    }
   ],
   "source": [
    "# Create a dictionary representation of the documents, and filter out frequent and rare words.\n",
    "from gensim.corpora import Dictionary\n",
    "dictionary = Dictionary(processed_reviews)\n",
    "\n",
    "# Remove rare and common tokens.\n",
    "# Filter out words that occur too frequently or too rarely.\n",
    "max_freq = 0.5\n",
    "min_wordcount = 5\n",
    "dictionary.filter_extremes(no_below=min_wordcount, no_above=max_freq)\n",
    "\n",
    "# Bag-of-words representation of the documents.\n",
    "corpus = [dictionary.doc2bow(doc) for doc in processed_reviews]\n",
    "\n",
    "print('Number of unique tokens: %d' % len(dictionary))\n",
    "print('Number of chunks: %d' % len(corpus))"
   ]
  },
  {
   "cell_type": "markdown",
   "id": "f904ee46-9c1e-4d8a-b8c7-0be14e8926b6",
   "metadata": {},
   "source": [
    "Now we are going to feed a Latent Dirichlet Allocation (LDA) ML technique with our information and see the results!"
   ]
  },
  {
   "cell_type": "code",
   "execution_count": 7,
   "id": "8984ea1e-9bdd-4b9d-8de4-99225873ec7c",
   "metadata": {},
   "outputs": [],
   "source": [
    "# models\n",
    "from gensim.models import LdaMulticore\n",
    "params = {'passes': 10, 'random_state': 42}\n",
    "base_models = dict()\n",
    "model = LdaMulticore(corpus=corpus, num_topics=NUMBER_OF_TOPICS, id2word=dictionary, workers=6,\n",
    "                passes=params['passes'], random_state=params['random_state'])"
   ]
  },
  {
   "cell_type": "code",
   "execution_count": 8,
   "id": "d17bf831-a65b-4617-96c3-e53ff6b06bf6",
   "metadata": {},
   "outputs": [
    {
     "data": {
      "text/plain": [
       "[(0,\n",
       "  '0.009*\"attack\" + 0.009*\"panic\" + 0.005*\"Lexapro\" + 0.005*\"panic_attack\" + 0.004*\"Xanax\"'),\n",
       " (1,\n",
       "  '0.007*\"period\" + 0.004*\"birth_control\" + 0.004*\"birth\" + 0.004*\"acne\" + 0.003*\"patch\"'),\n",
       " (2,\n",
       "  '0.028*\"acne\" + 0.020*\"skin\" + 0.018*\"period\" + 0.011*\"face\" + 0.011*\"clear\"'),\n",
       " (3,\n",
       "  '0.006*\"skin\" + 0.005*\"acne\" + 0.004*\"face\" + 0.003*\"clear\" + 0.002*\"attack\"'),\n",
       " (4,\n",
       "  '0.013*\"acetaminophen\" + 0.009*\"relief\" + 0.008*\"surgery\" + 0.006*\"patch\" + 0.006*\"chronic\"')]"
      ]
     },
     "execution_count": 8,
     "metadata": {},
     "output_type": "execute_result"
    }
   ],
   "source": [
    "model.show_topics(num_words=NUMBER_OF_TOPICS)"
   ]
  },
  {
   "cell_type": "code",
   "execution_count": 9,
   "id": "6433d7ea-5882-4595-8c95-523d79c02495",
   "metadata": {},
   "outputs": [
    {
     "name": "stdout",
     "output_type": "stream",
     "text": [
      "CONDITION  acne.txt\n",
      "[('attack', 0.009026211), ('panic', 0.008697217), ('Lexapro', 0.0054196375), ('panic_attack', 0.0051656407), ('Xanax', 0.0044750813)]\n",
      "CONDITION  anxiety.txt\n",
      "[('period', 0.007192596), ('birth_control', 0.0037545327), ('birth', 0.0036864348), ('acne', 0.003549174), ('patch', 0.0029663928)]\n",
      "CONDITION  birthcontrol.txt\n",
      "[('acne', 0.027943557), ('skin', 0.019854289), ('period', 0.017712537), ('face', 0.011434408), ('clear', 0.010659047)]\n",
      "CONDITION  depression.txt\n",
      "[('skin', 0.006372084), ('acne', 0.0054069962), ('face', 0.0041439813), ('clear', 0.0026818104), ('attack', 0.002378531)]\n",
      "CONDITION  pain.txt\n",
      "[('acetaminophen', 0.012522405), ('relief', 0.009347642), ('surgery', 0.008012307), ('patch', 0.0061608953), ('chronic', 0.005998852)]\n"
     ]
    }
   ],
   "source": [
    "for i in range(0,NUMBER_OF_TOPICS):\n",
    "    print(\"CONDITION \", list(condition_books_dict.keys())[list(condition_books_dict.values()).index(i)])\n",
    "    print(model.show_topic(i,5))\n",
    "    # Plot as histogram"
   ]
  },
  {
   "cell_type": "code",
   "execution_count": 10,
   "id": "0660736f-47d0-4b3e-8726-bd68fcf27dc9",
   "metadata": {},
   "outputs": [
    {
     "name": "stderr",
     "output_type": "stream",
     "text": [
      "C:\\Users\\javi\\anaconda3\\envs\\data_science\\lib\\site-packages\\pyLDAvis\\_prepare.py:228: FutureWarning: In a future version of pandas all arguments of DataFrame.drop except for the argument 'labels' will be keyword-only\n",
      "  default_term_info  = pd.DataFrame({'saliency': saliency, 'Term': vocab, \\\n"
     ]
    },
    {
     "data": {
      "text/html": [
       "\n",
       "<link rel=\"stylesheet\" type=\"text/css\" href=\"https://cdn.rawgit.com/bmabey/pyLDAvis/files/ldavis.v1.0.0.css\">\n",
       "\n",
       "\n",
       "<div id=\"ldavis_el297214103278179047071865486\"></div>\n",
       "<script type=\"text/javascript\">\n",
       "\n",
       "var ldavis_el297214103278179047071865486_data = {\"mdsDat\": {\"x\": [0.15250772383856553, -0.05448915970770105, -0.12917891761934722, 0.016482466414158133, 0.014677887074324701], \"y\": [-0.03252137136902838, 0.10510759281829626, -0.08172987050533839, -0.002771239847165518, 0.011914888903235936], \"topics\": [1, 2, 3, 4, 5], \"cluster\": [1, 1, 1, 1, 1], \"Freq\": [42.48852638224817, 37.38645411815657, 19.869401153347198, 0.17421462397090656, 0.08140372227714118]}, \"tinfo\": {\"Term\": [\"acne\", \"skin\", \"period\", \"face\", \"birth\", \"clear\", \"birth_control\", \"attack\", \"panic\", \"acetaminophen\", \"cramp\", \"mood\", \"sex\", \"love\", \"lose\", \"desogestrel\", \"cause\", \"panic_attack\", \"pimple\", \"dry\", \"Lexapro\", \"bleed\", \"symptom\", \"spot\", \"break\", \"patch\", \"drive\", \"relief\", \"happy\", \"breakout\", \"acne\", \"dermatologist\", \"doxycycline\", \"adapalene\", \"pimple\", \"Epiduo\", \"desogestrel\", \"isotretinoin\", \"epiduo\", \"Accutane\", \"clear_skin\", \"accutane\", \"cystic_acne\", \"clindamycin\", \"minocycline\", \"benzoylperoxide\", \"moisturizer\", \"Nexplanon\", \"Yaz\", \"drospirenone\", \"cystic\", \"Yasmin\", \"Loestrin\", \"nexplanon\", \"spotting\", \"dry_lip\", \"dermatologist_prescribe\", \"aczone\", \"breakout\", \"mirena\", \"birth_control\", \"insertion\", \"chin\", \"skin\", \"birth\", \"Mirena\", \"oily\", \"spot\", \"period\", \"face\", \"bleed\", \"bleeding\", \"clear\", \"insert\", \"cramp\", \"cream\", \"product\", \"lip\", \"dry\", \"mood_swing\", \"swing\", \"light\", \"break\", \"sex\", \"painful\", \"mood\", \"heavy\", \"love\", \"look\", \"switch\", \"haven\", \"result\", \"far\", \"old\", \"buspirone\", \"buspar\", \"lorazepam\", \"escitalopram\", \"Buspar\", \"paroxetine\", \"clonazepam\", \"Lexapro\", \"Viibryd\", \"zoloft\", \"citalopram\", \"prozac\", \"ssri\", \"Klonopin\", \"paxil\", \"mirtazapine\", \"vilazodone\", \"lexapro\", \"viibryd\", \"Celexa\", \"sertraline\", \"desvenlafaxine\", \"effexorxr\", \"wellbutrin\", \"Pristiq\", \"Abilify\", \"Effexor\", \"pristiq\", \"venlafaxine\", \"Paxil\", \"Zoloft\", \"panic\", \"Wellbutrin\", \"xanax\", \"Ativan\", \"Xanax\", \"anxiety_panic\", \"panic_attack\", \"Prozac\", \"attack\", \"alprazolam\", \"antidepressant\", \"thought\", \"disorder\", \"bupropion\", \"calm\", \"Cymbalta\", \"anxious\", \"insomnia\", \"energy\", \"feeling\", \"med\", \"increase\", \"withdrawal\", \"symptom\", \"happy\", \"lose\", \"people\", \"normal\", \"morning\", \"mood\", \"finally\", \"nausea\", \"able\", \"cause\", \"couldn\", \"hope\", \"far\", \"Dilaudid\", \"Nucynta\", \"breakthrough_pain\", \"percocet\", \"Percocet\", \"Opana\", \"Toradol\", \"hydromorphone\", \"dilaudid\", \"tapentadol\", \"morphine\", \"fentanyl\", \"nucynta\", \"oxymorphone\", \"disc\", \"Norco\", \"diclofenac\", \"herniate_disc\", \"Morphine\", \"Voltaren\", \"ketorolac\", \"Contin\", \"relieve_pain\", \"Oxycontin\", \"oxycodone\", \"buprenorphine\", \"ultram\", \"Fentanyl\", \"opana\", \"Oxycodone\", \"acetaminophen\", \"Vicodin\", \"pain_relief\", \"degenerative\", \"norco\", \"toradol\", \"herniate\", \"oxycontin\", \"pain_management\", \"methadone\", \"hydrocodone\", \"knee\", \"narcotic\", \"surgery\", \"Lortab\", \"spinal\", \"chronic_pain\", \"relief\", \"arthritis\", \"chronic\", \"nerve\", \"patch\", \"pain_free\", \"hip\", \"neck\", \"migraine\", \"shoulder\", \"leg\", \"low\", \"able\", \"headache\", \"daily\", \"cause\", \"walk\", \"med\", \"effective\", \"right\", \"break\", \"increase\", \"finally\", \"Gyn\", \"A few days\", \"excruciatingly\", \"submit\", \"furious\", \"chip\", \"lesson\", \"fist\", \"last Friday\", \"dying\", \"cracker\", \"psychology\", \"midway\", \"evolve\", \"indigestion\", \"backup\", \"about 10 hours\", \"day 8\", \"psychiatry\", \"vegan\", \"Actavis\", \"50 pounds\", \"unreal\", \"Aubra\", \"excuse\", \"3 minutes\", \"4 - 5 months\", \"cave\", \"migraines\", \"troublesome\", \"mild_cramping\", \"tremble\", \"xulane\", \"Xulane\", \"vein\", \"birthcontrol\", \"period\", \"paragard\", \"patch\", \"birth_control\", \"insertion\", \"cramping\", \"symptom\", \"birth\", \"remove\", \"lose\", \"bleed\", \"love\", \"attack\", \"sex\", \"cramp\", \"drive\", \"light\", \"pregnant\", \"headache\", \"choose\", \"second\", \"acne\", \"panic\", \"cause\", \"far\", \"normal\", \"switch\", \"past\", \"painful\", \"extremely\", \"skin\", \"mood\", \"clear\", \"finally\", \"3 years later\", \"4 days later\", \"7 day\", \"Niacin\", \"witness\", \"restaurant\", \"runny\", \"refreshing\", \"subject\", \"tragic\", \"presumably\", \"Itchy\", \"coarse\", \"A few days\", \"topically\", \"overseas\", \"fluvoxamine\", \"adolescent\", \"helplessness\", \"Gyn\", \"Agoraphobia\", \"the last 15 years\", \"stung\", \"consent\", \"pressured\", \"docter\", \"submit\", \"dying\", \"age 12\", \"fingertip\", \"conquer\", \"antihistamine\", \"protection\", \"haziness\", \"itchiness\", \"brink\", \"skin\", \"face\", \"70 %\", \"acne\", \"result\", \"attack\", \"people\", \"clear\", \"panic\", \"breakout\", \"morning\", \"cause\", \"dry\", \"happy\", \"pimple\", \"completely\", \"able\", \"increase\", \"old\", \"break\", \"mood\", \"Xanax\", \"period\", \"Lexapro\", \"Zoloft\", \"Klonopin\", \"nausea\", \"hope\", \"product\", \"finally\", \"panic_attack\", \"love\", \"lose\", \"high\", \"med\"], \"Freq\": [7368.0, 5377.0, 4992.0, 3180.0, 2581.0, 3009.0, 2267.0, 2241.0, 2072.0, 1582.0, 1552.0, 2233.0, 1527.0, 1622.0, 1517.0, 1395.0, 1909.0, 1235.0, 1233.0, 1812.0, 1270.0, 973.0, 1275.0, 1350.0, 1728.0, 1083.0, 1383.0, 1454.0, 1657.0, 1036.0, 7344.2563701675435, 884.6015943083659, 403.7449495982396, 471.41914757802357, 1228.3716071559268, 522.5789876954252, 1388.9844699668956, 419.32934773388405, 590.5624889218234, 658.9495010015552, 489.1501573642727, 515.5948965213563, 636.2541266820774, 287.8514494196522, 289.5652996576432, 231.15431932705414, 287.6130084066079, 291.9623156776505, 265.98812500505403, 827.0419398788348, 807.3364867443549, 184.1839486965114, 206.93918569300976, 449.84456534744936, 327.8331087564071, 168.39698431848794, 182.0070920899983, 182.68309821629123, 1030.1203730134653, 201.68783829286858, 2251.2515488429704, 641.4001445316726, 561.9227033491346, 5218.19697026914, 2518.359823403722, 363.47543538522126, 347.2787337011305, 1307.458755311082, 4655.291864244935, 3005.244561667929, 943.1606632445156, 596.3295610101936, 2801.460688266809, 589.3670099969336, 1444.8728649309442, 753.9596010982493, 1025.7793574804614, 510.0179224714879, 1441.5930082859684, 991.150244523784, 996.7743070786024, 923.6694490389896, 1242.9333677990805, 1102.9423940551849, 809.97087288873, 1313.7407718687882, 729.1581865105994, 1038.5884711187127, 889.0300555510171, 940.1982180032767, 821.9811035742564, 836.4013845248248, 860.9299366776835, 840.8491217636544, 360.0821625441742, 279.0051533881853, 286.2434874565886, 605.8260756719088, 383.65572068915884, 226.27693089000778, 393.21010843153056, 1253.3690094103185, 255.34210413106868, 200.72272228252916, 304.4611210004263, 145.17546244539915, 104.35899427317867, 517.9083809812682, 208.19728973342418, 294.6223216730477, 153.838748630941, 700.984958238981, 202.4415089357114, 454.8530618329868, 297.175537563253, 260.61984516132765, 140.85378748868925, 162.6974398982682, 678.5251121383906, 158.80926107332547, 703.5111706437866, 315.84609197935225, 361.4465250861464, 629.3199694965568, 848.2067760383177, 2011.356359969603, 671.0069971923471, 425.216776990946, 419.3664436102586, 1034.9268046211896, 416.62824172984296, 1194.6285941553592, 537.7373929978277, 2087.44082043914, 399.9023690259945, 624.9566585576231, 839.6059370954323, 677.123569323899, 374.4155479797874, 689.3207448367598, 638.9800019814094, 583.0551106508016, 564.9289066547377, 629.7918170390437, 749.3971191669948, 899.5426363685852, 917.0211336330989, 600.9688944077794, 760.1722367548211, 852.5473642038942, 789.887378235681, 759.9026865097351, 797.1634041082314, 728.4269608571656, 831.6158130705985, 753.2707597246236, 713.140888149018, 706.2001577970731, 702.6694588117481, 661.1307752879939, 662.24133737447, 666.5302339229306, 307.9177507997525, 397.9672889639226, 223.43445916273853, 302.7952203471879, 404.4414142647042, 343.50569443849434, 137.1554559692671, 198.0095180728078, 218.49623449704993, 203.8293227747352, 349.9444495114088, 202.79408542576743, 174.70349973565015, 136.96505482758872, 583.3940201731058, 409.3407917747862, 217.12548077540487, 130.07962185274937, 100.1708461967979, 114.63841406205518, 123.23190567429266, 98.18508405310499, 159.8893408389902, 272.80533068566234, 270.7970400533865, 72.06512943225927, 96.19492924761788, 94.18558695201348, 103.87613511609104, 118.31638835149455, 1539.1005532807897, 410.9588938496434, 446.47918763508585, 192.29911497374147, 159.68652005419338, 146.02373933967198, 177.38426825608573, 216.3957838171638, 203.7808747198977, 241.25033705770196, 199.6117235768072, 456.41464457962013, 306.3962014342998, 984.7745647429034, 179.78762659129097, 243.3612471374954, 411.1981579881529, 1148.8975730508146, 299.43141438027294, 737.3053918688886, 492.3207771857208, 757.2217490604273, 241.34488659886154, 262.3646174763841, 427.37757620212903, 486.6771082058991, 308.80638484988236, 348.1368763372726, 554.0516117217126, 522.7807818176368, 511.39380054615384, 462.5356113188247, 515.4167347157107, 318.24957750657546, 399.5772066656649, 364.50948582012535, 357.3191992551004, 339.64819334927756, 335.1161682786222, 330.40975310390314, 0.5082102856912813, 0.4885828573423485, 0.47292944706922957, 0.30740565233208755, 0.3001865431860709, 0.5520989302033563, 0.2979934266735555, 0.2995477558566408, 0.29005156919840897, 0.2885332770674921, 0.2863685761940234, 0.270011110440419, 0.24565293296589424, 0.27430977562414927, 0.31289416751417753, 0.3079389003398929, 0.30448624337652147, 0.30322159061974424, 0.3004273547496475, 0.2917148563616799, 0.31226983891499077, 0.23814797378205038, 0.28439773521564016, 0.7008120830626273, 0.2815597781525732, 0.2790502004943834, 0.2794208897194305, 0.20824915442334346, 0.2345705200992896, 0.3082104484666767, 0.9377743625551191, 0.5685402942289803, 0.8256647555425307, 0.4772268576993596, 0.5228734768076876, 0.5490069574000696, 7.751123927632897, 0.9239265999150645, 3.1967425817330697, 4.046084151007885, 2.278252276206483, 2.0557077657823397, 2.9611768085807464, 3.972698285426478, 2.1137993684225527, 3.0020080118773826, 2.4828973176830593, 2.938636494954969, 3.09577535524918, 2.584659178417376, 2.597726859628767, 2.458489224657163, 2.2053817812440766, 1.8268911146335225, 2.4848757487107243, 1.0135301426151635, 1.965423815937121, 3.824778637719393, 2.4569468764609605, 2.36857085173107, 2.2743481054023653, 2.174500191640659, 2.146120683737669, 1.8683086962829365, 1.8145002650894904, 1.8518786859673952, 2.535920774688801, 2.0838236919739077, 2.112817303864242, 1.8992020786901973, 0.17498070311628006, 0.16753780111660366, 0.16614171200500805, 0.1131200609690969, 0.07700047770821677, 0.08454892576230792, 0.09528869843476383, 0.06763786708136416, 0.0653913203390036, 0.057746313472634606, 0.046713530327330215, 0.04306827120987222, 0.04212682370610707, 0.032930911216223914, 0.04181765964557758, 0.04160161411181166, 0.05632641714562706, 0.04131115729072405, 0.04856050201274387, 0.03194169540304959, 0.04090245943193417, 0.04013805656811221, 0.04004584299398125, 0.0396654331484563, 0.046254378611440036, 0.03865820254947397, 0.03410541150120685, 0.03343830020483086, 0.037856348569009844, 0.03796461314509828, 0.044118100530552706, 0.10301623185194136, 0.14042725213130744, 0.04938882310988017, 0.14101896658466062, 0.04383141739858087, 3.2086342885296117, 2.0866831887052975, 0.07405628942540088, 2.7226687162217043, 0.923304046149618, 1.1976986394705778, 0.9260971916096311, 1.350413609566976, 1.0994086198325403, 0.7038276354457783, 0.8270513203605837, 0.9408946253357097, 0.8859561600555363, 0.8334707245965457, 0.7088854047181493, 0.7560760685731951, 0.756926826633579, 0.7884264471799313, 0.8082459503465904, 0.8122212936846275, 0.8771364843704957, 0.6102968313144167, 1.1801907150674489, 0.6525898768666339, 0.554541490572833, 0.4498232150164028, 0.6655550709499537, 0.6639835162858022, 0.584317084759653, 0.6555485663742268, 0.6017123993485465, 0.6467056183850469, 0.6265168652340731, 0.6113930916663245, 0.6102746141777196], \"Total\": [7368.0, 5377.0, 4992.0, 3180.0, 2581.0, 3009.0, 2267.0, 2241.0, 2072.0, 1582.0, 1552.0, 2233.0, 1527.0, 1622.0, 1517.0, 1395.0, 1909.0, 1235.0, 1233.0, 1812.0, 1270.0, 973.0, 1275.0, 1350.0, 1728.0, 1083.0, 1383.0, 1454.0, 1657.0, 1036.0, 7368.695627600766, 887.7862520289756, 405.4365166652967, 473.4263460045599, 1233.6426423101036, 524.914156731607, 1395.2280334138866, 421.2415842388892, 593.2560992030528, 662.0212664422879, 491.5126884018786, 518.1064310542633, 639.3899641116694, 289.3067547034728, 291.0703158715288, 232.36228473941526, 289.12610298081773, 293.5057769106689, 267.42889896147244, 831.60742278202, 811.823835691265, 185.21564850719506, 208.11470529652914, 452.4382062512716, 329.73337509840127, 169.38463466032658, 183.1025059285175, 183.7865056177229, 1036.7129878216479, 202.97990337140897, 2267.0835583291696, 645.9544505476017, 565.6363189798241, 5377.82558494736, 2581.495051087439, 365.9212261518048, 349.5081339267, 1350.7438690438116, 4992.185844227791, 3180.951216188353, 973.9655082897248, 609.5797590612096, 3009.1836747797583, 604.7358077196743, 1552.2372340733218, 787.6497112120347, 1123.072426469814, 524.4429480966044, 1812.8595282222705, 1162.5639546999857, 1185.483992589152, 1136.7224668660147, 1728.7589172138826, 1527.7711173153934, 1007.8864531807538, 2233.6849493659793, 851.5646543987158, 1622.8534981581454, 1253.8689207726572, 1752.3287708236085, 1288.4265457029826, 1402.9897584255505, 1833.7784090012015, 1707.8677629901454, 363.76717520069826, 281.92398387132175, 289.35957180879745, 612.4535501372087, 387.9011736607976, 228.9693040434895, 398.44543391776745, 1270.0848608950923, 258.762294244725, 203.4701394843083, 308.6908909323658, 147.23965243992015, 105.86297968216779, 525.3727783847479, 211.23694760479083, 298.96431032685956, 156.1060247736566, 711.3195514430671, 205.45927802003294, 461.6399152683983, 301.62391279256724, 264.52242772125356, 142.96921422439135, 165.18552805096286, 689.0554009564568, 161.27514912755166, 714.5479786034078, 320.8904908127012, 367.25102691251857, 639.429539281417, 862.1711409168247, 2072.0720801458456, 684.2680147207783, 432.2242588591461, 426.9372913846003, 1065.413514378072, 425.2109986768406, 1235.5686858634058, 553.338958167527, 2241.87422801778, 409.7052967071524, 665.9818086016977, 935.4367709451031, 741.4382049235188, 388.6304096724415, 811.6584177539954, 758.1249932692555, 687.1673754046276, 662.9567532354297, 804.5203786235456, 1075.7762317119928, 1423.017546967239, 1595.529337786472, 831.3487848738285, 1275.9480919673167, 1657.8017988526765, 1517.6282978855213, 1513.4365902556558, 1718.8552776567549, 1412.5461688629455, 2233.6849493659793, 1641.9120545118296, 1490.2234563505956, 1467.2268153658404, 1909.171953338519, 1277.99587362574, 1518.389102556353, 1833.7784090012015, 310.2055855028491, 401.00519600639313, 225.26025603370303, 305.3239870338786, 407.8368315821462, 346.42359697709554, 138.35659299302694, 199.75783593675587, 220.48027332315675, 205.7640423032985, 353.3468831370988, 204.7766091546694, 176.49470273721812, 138.41969916017797, 589.6540917736833, 413.7360058798416, 219.51623329780273, 131.52874021822515, 101.2881417475107, 115.92565657283448, 124.64959792358457, 99.3228051461346, 161.7501905000781, 276.1761182636434, 274.1554283310871, 72.97109227338845, 97.4057558060932, 95.40062737806775, 105.21759300827102, 119.84494925535776, 1582.054440450289, 416.9149864306179, 455.90273688646323, 195.03467026293836, 161.85435005688507, 148.1509118501637, 180.36595582628718, 220.59135997365524, 207.74484857515725, 247.72755736707083, 203.8539831171589, 478.7658101774661, 318.20496712344345, 1078.2400865655327, 183.4202522723001, 254.75273207902282, 456.9944493824257, 1454.9183732207982, 322.3842191038677, 939.2510846944488, 586.545055924422, 1083.3222152874516, 255.96396871780067, 293.1104219138383, 619.1732919978152, 878.7758492023712, 430.41085338415604, 557.0979184104784, 1556.7143321059325, 1467.2268153658404, 1786.5089532191648, 1381.3714343007443, 1909.171953338519, 527.782262898432, 1423.017546967239, 1058.8268001106358, 1324.8824990805476, 1728.7589172138826, 1595.529337786472, 1641.9120545118296, 4.319017274381179, 4.365983274355686, 6.349568680511674, 4.925771381922736, 4.903726917455039, 9.07019013205843, 4.911792111160408, 4.954274411126296, 4.868167890053882, 4.8867216546294925, 4.933484776017391, 4.989180004881098, 5.030443472172026, 5.913634440997683, 6.840007383318348, 6.896273562132262, 6.870133997239501, 6.886356159846618, 6.950740825224815, 6.922339059425901, 7.763731249298192, 6.083016959190968, 7.8786650048720235, 19.690823171629273, 7.911426486697981, 7.886660562278206, 7.942507798943939, 6.177403049168146, 6.989721900766975, 9.867622021175498, 31.953940583575513, 19.226051634217818, 34.24741362051573, 17.334840683702936, 21.08435776433436, 25.087387303774936, 4992.185844227791, 81.7244424329667, 1083.3222152874516, 2267.0835583291696, 645.9544505476017, 535.9960161138683, 1275.9480919673167, 2581.495051087439, 631.7901340736203, 1517.6282978855213, 973.9655082897248, 1622.8534981581454, 2241.87422801778, 1527.7711173153934, 1552.2372340733218, 1383.0152579141907, 1136.7224668660147, 722.1545840631154, 1786.5089532191648, 145.02234615585198, 1026.243611559999, 7368.695627600766, 2072.0720801458456, 1909.171953338519, 1833.7784090012015, 1718.8552776567549, 1752.3287708236085, 1062.411874935794, 1007.8864531807538, 1100.6015298250013, 5377.82558494736, 2233.6849493659793, 3009.1836747797583, 1641.9120545118296, 4.790319369412443, 4.828172462721428, 12.80104578084838, 9.247025524933244, 6.314074562243631, 7.393339305722237, 9.10657511399839, 7.436265015091065, 7.382098064644744, 6.53573930113665, 5.5213375206232085, 5.549259960270539, 5.536672899844544, 4.365983274355686, 5.554547373945649, 5.556587332859667, 7.551740937853469, 5.5562006190258435, 6.5331272498323765, 4.319017274381179, 5.592840274032652, 5.494752134776965, 5.566097412121423, 5.569883874192047, 6.505150106292629, 5.571060209115912, 4.925771381922736, 4.8867216546294925, 5.543332644376687, 5.578247279510539, 6.541110175273125, 17.282074981683223, 24.82714926146973, 7.59027296851114, 30.76299631205466, 6.609601655867663, 5377.82558494736, 3180.951216188353, 15.321283793096788, 7368.695627600766, 1402.9897584255505, 2241.87422801778, 1513.4365902556558, 3009.1836747797583, 2072.0720801458456, 1036.7129878216479, 1412.5461688629455, 1909.171953338519, 1812.8595282222705, 1657.8017988526765, 1233.6426423101036, 1449.4938313669463, 1467.2268153658404, 1595.529337786472, 1707.8677629901454, 1728.7589172138826, 2233.6849493659793, 1065.413514378072, 4992.185844227791, 1270.0848608950923, 862.1711409168247, 525.3727783847479, 1490.2234563505956, 1518.389102556353, 1123.072426469814, 1641.9120545118296, 1235.5686858634058, 1622.8534981581454, 1517.6282978855213, 1369.7941407450246, 1423.017546967239], \"Category\": [\"Default\", \"Default\", \"Default\", \"Default\", \"Default\", \"Default\", \"Default\", \"Default\", \"Default\", \"Default\", \"Default\", \"Default\", \"Default\", \"Default\", \"Default\", \"Default\", \"Default\", \"Default\", \"Default\", \"Default\", \"Default\", \"Default\", \"Default\", \"Default\", \"Default\", \"Default\", \"Default\", \"Default\", \"Default\", \"Default\", \"Topic1\", \"Topic1\", \"Topic1\", \"Topic1\", \"Topic1\", \"Topic1\", \"Topic1\", \"Topic1\", \"Topic1\", \"Topic1\", \"Topic1\", \"Topic1\", \"Topic1\", \"Topic1\", \"Topic1\", \"Topic1\", \"Topic1\", \"Topic1\", \"Topic1\", \"Topic1\", \"Topic1\", \"Topic1\", \"Topic1\", \"Topic1\", \"Topic1\", \"Topic1\", \"Topic1\", \"Topic1\", \"Topic1\", \"Topic1\", \"Topic1\", \"Topic1\", \"Topic1\", \"Topic1\", \"Topic1\", \"Topic1\", \"Topic1\", \"Topic1\", \"Topic1\", \"Topic1\", \"Topic1\", \"Topic1\", \"Topic1\", \"Topic1\", \"Topic1\", \"Topic1\", \"Topic1\", \"Topic1\", \"Topic1\", \"Topic1\", \"Topic1\", \"Topic1\", \"Topic1\", \"Topic1\", \"Topic1\", \"Topic1\", \"Topic1\", \"Topic1\", \"Topic1\", \"Topic1\", \"Topic1\", \"Topic1\", \"Topic1\", \"Topic1\", \"Topic2\", \"Topic2\", \"Topic2\", \"Topic2\", \"Topic2\", \"Topic2\", \"Topic2\", \"Topic2\", \"Topic2\", \"Topic2\", \"Topic2\", \"Topic2\", \"Topic2\", \"Topic2\", \"Topic2\", \"Topic2\", \"Topic2\", \"Topic2\", \"Topic2\", \"Topic2\", \"Topic2\", \"Topic2\", \"Topic2\", \"Topic2\", \"Topic2\", \"Topic2\", \"Topic2\", \"Topic2\", \"Topic2\", \"Topic2\", \"Topic2\", \"Topic2\", \"Topic2\", \"Topic2\", \"Topic2\", \"Topic2\", \"Topic2\", \"Topic2\", \"Topic2\", \"Topic2\", \"Topic2\", \"Topic2\", \"Topic2\", \"Topic2\", \"Topic2\", \"Topic2\", \"Topic2\", \"Topic2\", \"Topic2\", \"Topic2\", \"Topic2\", \"Topic2\", \"Topic2\", \"Topic2\", \"Topic2\", \"Topic2\", \"Topic2\", \"Topic2\", \"Topic2\", \"Topic2\", \"Topic2\", \"Topic2\", \"Topic2\", \"Topic2\", \"Topic2\", \"Topic2\", \"Topic2\", \"Topic2\", \"Topic3\", \"Topic3\", \"Topic3\", \"Topic3\", \"Topic3\", \"Topic3\", \"Topic3\", \"Topic3\", \"Topic3\", \"Topic3\", \"Topic3\", \"Topic3\", \"Topic3\", \"Topic3\", \"Topic3\", \"Topic3\", \"Topic3\", \"Topic3\", \"Topic3\", \"Topic3\", \"Topic3\", \"Topic3\", \"Topic3\", \"Topic3\", \"Topic3\", \"Topic3\", \"Topic3\", \"Topic3\", \"Topic3\", \"Topic3\", \"Topic3\", \"Topic3\", \"Topic3\", \"Topic3\", \"Topic3\", \"Topic3\", \"Topic3\", \"Topic3\", \"Topic3\", \"Topic3\", \"Topic3\", \"Topic3\", \"Topic3\", \"Topic3\", \"Topic3\", \"Topic3\", \"Topic3\", \"Topic3\", \"Topic3\", \"Topic3\", \"Topic3\", \"Topic3\", \"Topic3\", \"Topic3\", \"Topic3\", \"Topic3\", \"Topic3\", \"Topic3\", \"Topic3\", \"Topic3\", \"Topic3\", \"Topic3\", \"Topic3\", \"Topic3\", \"Topic3\", \"Topic3\", \"Topic3\", \"Topic3\", \"Topic3\", \"Topic3\", \"Topic4\", \"Topic4\", \"Topic4\", \"Topic4\", \"Topic4\", \"Topic4\", \"Topic4\", \"Topic4\", \"Topic4\", \"Topic4\", \"Topic4\", \"Topic4\", \"Topic4\", \"Topic4\", \"Topic4\", \"Topic4\", \"Topic4\", \"Topic4\", \"Topic4\", \"Topic4\", \"Topic4\", \"Topic4\", \"Topic4\", \"Topic4\", \"Topic4\", \"Topic4\", \"Topic4\", \"Topic4\", \"Topic4\", \"Topic4\", \"Topic4\", \"Topic4\", \"Topic4\", \"Topic4\", \"Topic4\", \"Topic4\", \"Topic4\", \"Topic4\", \"Topic4\", \"Topic4\", \"Topic4\", \"Topic4\", \"Topic4\", \"Topic4\", \"Topic4\", \"Topic4\", \"Topic4\", \"Topic4\", \"Topic4\", \"Topic4\", \"Topic4\", \"Topic4\", \"Topic4\", \"Topic4\", \"Topic4\", \"Topic4\", \"Topic4\", \"Topic4\", \"Topic4\", \"Topic4\", \"Topic4\", \"Topic4\", \"Topic4\", \"Topic4\", \"Topic4\", \"Topic4\", \"Topic4\", \"Topic4\", \"Topic4\", \"Topic4\", \"Topic5\", \"Topic5\", \"Topic5\", \"Topic5\", \"Topic5\", \"Topic5\", \"Topic5\", \"Topic5\", \"Topic5\", \"Topic5\", \"Topic5\", \"Topic5\", \"Topic5\", \"Topic5\", \"Topic5\", \"Topic5\", \"Topic5\", \"Topic5\", \"Topic5\", \"Topic5\", \"Topic5\", \"Topic5\", \"Topic5\", \"Topic5\", \"Topic5\", \"Topic5\", \"Topic5\", \"Topic5\", \"Topic5\", \"Topic5\", \"Topic5\", \"Topic5\", \"Topic5\", \"Topic5\", \"Topic5\", \"Topic5\", \"Topic5\", \"Topic5\", \"Topic5\", \"Topic5\", \"Topic5\", \"Topic5\", \"Topic5\", \"Topic5\", \"Topic5\", \"Topic5\", \"Topic5\", \"Topic5\", \"Topic5\", \"Topic5\", \"Topic5\", \"Topic5\", \"Topic5\", \"Topic5\", \"Topic5\", \"Topic5\", \"Topic5\", \"Topic5\", \"Topic5\", \"Topic5\", \"Topic5\", \"Topic5\", \"Topic5\", \"Topic5\", \"Topic5\", \"Topic5\", \"Topic5\", \"Topic5\", \"Topic5\", \"Topic5\", \"Topic5\"], \"logprob\": [30.0, 29.0, 28.0, 27.0, 26.0, 25.0, 24.0, 23.0, 22.0, 21.0, 20.0, 19.0, 18.0, 17.0, 16.0, 15.0, 14.0, 13.0, 12.0, 11.0, 10.0, 9.0, 8.0, 7.0, 6.0, 5.0, 4.0, 3.0, 2.0, 1.0, -3.5776000022888184, -5.6940999031066895, -6.478499889373779, -6.323500156402588, -5.365799903869629, -6.2204999923706055, -5.2428998947143555, -6.4405999183654785, -6.098199844360352, -5.98859977722168, -6.286600112915039, -6.23390007019043, -6.023600101470947, -6.816800117492676, -6.8109002113342285, -7.036200046539307, -6.817599773406982, -6.802599906921387, -6.8958001136779785, -5.76140022277832, -5.7855000495910645, -7.263299942016602, -7.1468000411987305, -6.370299816131592, -6.686699867248535, -7.35290002822876, -7.275199890136719, -7.271500110626221, -5.541800022125244, -7.172500133514404, -4.760000228881836, -6.015600204467773, -6.147900104522705, -3.919300079345703, -4.647900104522705, -6.583499908447266, -6.6290998458862305, -5.303400039672852, -4.0335001945495605, -4.471099853515625, -5.630000114440918, -6.088399887084961, -4.541299819946289, -6.100200176239014, -5.203499794006348, -5.853899955749512, -5.546000003814697, -6.244800090789795, -5.205699920654297, -5.580399990081787, -5.574699878692627, -5.650899887084961, -5.354000091552734, -5.473499774932861, -5.782199859619141, -5.298600196838379, -5.887400150299072, -5.533599853515625, -5.6890997886657715, -5.633200168609619, -5.767499923706055, -5.750100135803223, -5.721199989318848, -5.744800090789795, -6.465000152587891, -6.720099925994873, -6.694499969482422, -5.944699764251709, -6.401599884033203, -6.929599761962891, -6.376999855041504, -5.217700004577637, -6.808700084686279, -7.0493998527526855, -6.632800102233887, -7.3734002113342285, -7.703499794006348, -6.101500034332275, -7.012800216674805, -6.665599822998047, -7.315400123596191, -5.798799991607666, -7.040900230407715, -6.231299877166748, -6.6570000648498535, -6.788300037384033, -7.403600215911865, -7.259399890899658, -5.831399917602539, -7.283599853515625, -5.795199871063232, -6.596099853515625, -6.46120023727417, -5.906700134277344, -5.6082000732421875, -4.744800090789795, -5.84250020980835, -6.298699855804443, -6.312600135803223, -5.409200191497803, -6.3190999031066895, -5.265699863433838, -6.063899993896484, -4.707600116729736, -6.360099792480469, -5.913599967956543, -5.6184000968933105, -5.833499908447266, -6.426000118255615, -5.8155999183654785, -5.89139986038208, -5.982999801635742, -6.014599800109863, -5.905900001525879, -5.73199987411499, -5.5493998527526855, -5.530200004577637, -5.9527997970581055, -5.717800140380859, -5.603099822998047, -5.6793999671936035, -5.718100070953369, -5.670300006866455, -5.76039981842041, -5.627900123596191, -5.726900100708008, -5.781599998474121, -5.791399955749512, -5.79640007019043, -5.857399940490723, -5.8557000160217285, -5.8491997718811035, -5.9893999099731445, -5.732800006866455, -6.310100078582764, -6.006100177764893, -5.716700077056885, -5.880000114440918, -6.798099994659424, -6.4309000968933105, -6.332399845123291, -6.401899814605713, -5.861400127410889, -6.4070000648498535, -6.556099891662598, -6.799499988555908, -5.350299835205078, -5.704599857330322, -6.338699817657471, -6.85099983215332, -7.112299919128418, -6.977399826049805, -6.905099868774414, -7.132299900054932, -6.644700050354004, -6.110400199890137, -6.117800235748291, -7.4415998458862305, -7.1528000831604, -7.173900127410889, -7.076000213623047, -6.945799827575684, -4.380199909210205, -5.700699806213379, -5.617800235748291, -6.460100173950195, -6.645999908447266, -6.735400199890137, -6.540900230407715, -6.342100143432617, -6.402100086212158, -6.233399868011475, -6.422800064086914, -5.595799922943115, -5.99429988861084, -4.8267998695373535, -6.527400016784668, -6.224599838256836, -5.700099945068359, -4.672599792480469, -6.017300128936768, -5.116199970245361, -5.520100116729736, -5.0894999504089355, -6.232999801635742, -6.149499893188477, -5.661499977111816, -5.531599998474121, -5.986499786376953, -5.866600036621094, -5.401899814605713, -5.460000038146973, -5.48199987411499, -5.582499980926514, -5.4741997718811035, -5.956399917602539, -5.728799819946289, -5.8206000328063965, -5.84060001373291, -5.891300201416016, -5.904699802398682, -5.918900012969971, -7.65939998626709, -7.698800086975098, -7.731400012969971, -8.162099838256836, -8.18589973449707, -7.576600074768066, -8.19320011138916, -8.187999725341797, -8.220199584960938, -8.225500106811523, -8.232999801635742, -8.291799545288086, -8.38640022277832, -8.276000022888184, -8.144399642944336, -8.160400390625, -8.171699523925781, -8.175800323486328, -8.185099601745605, -8.214500427246094, -8.146400451660156, -8.417400360107422, -8.239899635314941, -7.338099956512451, -8.25, -8.258899688720703, -8.257599830627441, -8.551600456237793, -8.432499885559082, -8.159500122070312, -7.046800136566162, -7.5472002029418945, -7.174099922180176, -7.722300052642822, -7.63100004196167, -7.582200050354004, -4.934700012207031, -7.061699867248535, -5.820400238037109, -5.584799766540527, -6.15910005569458, -6.261899948120117, -5.896999835968018, -5.603099822998047, -6.234099864959717, -5.883299827575684, -6.0731000900268555, -5.904600143432617, -5.852499961853027, -6.032899856567383, -6.027900218963623, -6.083000183105469, -6.1915998458862305, -6.379899978637695, -6.072299957275391, -6.969099998474121, -6.30679988861084, -5.640999794006348, -6.083600044250488, -6.120299816131592, -6.160799980163574, -6.205699920654297, -6.218900203704834, -6.357500076293945, -6.38670015335083, -6.366300106048584, -6.052000045776367, -6.248300075531006, -6.234499931335449, -6.341100215911865, -7.964799880981445, -8.008199691772461, -8.016599655151367, -8.401000022888184, -8.785599708557129, -8.692099571228027, -8.572500228881836, -8.915300369262695, -8.949000358581543, -9.073399543762207, -9.285400390625, -9.366600036621094, -9.388699531555176, -9.635000228881836, -9.396100044250488, -9.401300430297852, -9.098299980163574, -9.408300399780273, -9.246600151062012, -9.665499687194824, -9.41819953918457, -9.437100410461426, -9.439399719238281, -9.449000358581543, -9.295299530029297, -9.474699974060059, -9.600000381469727, -9.61970043182373, -9.495599746704102, -9.492799758911133, -9.342599868774414, -8.494500160217285, -8.184700012207031, -9.229700088500977, -8.180500030517578, -9.349100112915039, -5.055799961090088, -5.486100196838379, -8.824600219726562, -5.220099925994873, -6.301499843597412, -6.041299819946289, -6.298399925231934, -5.921299934387207, -6.1269001960754395, -6.57289981842041, -6.411600112915039, -6.282599925994873, -6.342800140380859, -6.403800010681152, -6.565700054168701, -6.501299858093262, -6.500199794769287, -6.459400177001953, -6.434599876403809, -6.429699897766113, -6.352799892425537, -6.7154998779296875, -6.056000232696533, -6.648499965667725, -6.811299800872803, -7.020599842071533, -6.628799915313721, -6.631199836730957, -6.758999824523926, -6.644000053405762, -6.729599952697754, -6.65749979019165, -6.689300060272217, -6.713699817657471, -6.7154998779296875], \"loglift\": [30.0, 29.0, 28.0, 27.0, 26.0, 25.0, 24.0, 23.0, 22.0, 21.0, 20.0, 19.0, 18.0, 17.0, 16.0, 15.0, 14.0, 13.0, 12.0, 11.0, 10.0, 9.0, 8.0, 7.0, 6.0, 5.0, 4.0, 3.0, 2.0, 1.0, 0.8526, 0.8523, 0.8518, 0.8517, 0.8517, 0.8515, 0.8515, 0.8514, 0.8514, 0.8513, 0.8511, 0.8511, 0.851, 0.8509, 0.8508, 0.8507, 0.8507, 0.8507, 0.8505, 0.8504, 0.8504, 0.8504, 0.8503, 0.8502, 0.8502, 0.8501, 0.8499, 0.8499, 0.8496, 0.8496, 0.8489, 0.8489, 0.8493, 0.8258, 0.8312, 0.8492, 0.8495, 0.8234, 0.7861, 0.7991, 0.8238, 0.834, 0.7844, 0.8302, 0.7843, 0.8122, 0.7653, 0.828, 0.6268, 0.6964, 0.6826, 0.6484, 0.526, 0.5301, 0.6373, 0.3252, 0.7008, 0.4096, 0.5121, 0.2333, 0.4065, 0.3387, 0.0998, 0.1473, 0.9737, 0.9735, 0.973, 0.973, 0.9729, 0.972, 0.9706, 0.9706, 0.9706, 0.9703, 0.9701, 0.9697, 0.9696, 0.9696, 0.9694, 0.9692, 0.9692, 0.9692, 0.9691, 0.9691, 0.969, 0.969, 0.969, 0.9687, 0.9685, 0.9685, 0.9683, 0.968, 0.9679, 0.9679, 0.9675, 0.9541, 0.9643, 0.9675, 0.966, 0.9548, 0.9635, 0.9502, 0.9553, 0.9125, 0.9596, 0.9203, 0.8758, 0.8931, 0.9466, 0.8205, 0.8129, 0.8196, 0.8239, 0.739, 0.6223, 0.5252, 0.43, 0.6594, 0.466, 0.3188, 0.3308, 0.2949, 0.2155, 0.3216, -0.0042, 0.2047, 0.2469, 0.2526, -0.0157, 0.3248, 0.1541, -0.0282, 1.6086, 1.6084, 1.6079, 1.6077, 1.6076, 1.6075, 1.6073, 1.6072, 1.6069, 1.6065, 1.6063, 1.6063, 1.6058, 1.6054, 1.6053, 1.6053, 1.605, 1.6049, 1.6049, 1.6048, 1.6046, 1.6045, 1.6044, 1.6037, 1.6037, 1.6035, 1.6035, 1.6032, 1.6032, 1.6032, 1.5885, 1.6016, 1.5951, 1.6019, 1.6025, 1.6015, 1.5993, 1.5968, 1.5967, 1.5895, 1.595, 1.5682, 1.5782, 1.5253, 1.596, 1.5702, 1.5104, 1.3798, 1.5421, 1.3739, 1.4409, 1.2579, 1.5572, 1.5052, 1.2453, 1.0251, 1.284, 1.1458, 0.5829, 0.584, 0.3651, 0.5219, 0.3065, 1.1101, 0.3459, 0.5496, 0.3055, -0.0113, 0.0555, 0.0127, 4.2127, 4.1625, 3.7554, 3.5786, 3.5593, 3.5536, 3.5503, 3.5469, 3.5322, 3.5232, 3.5061, 3.4361, 3.3333, 3.2819, 3.268, 3.2438, 3.2363, 3.2298, 3.2112, 3.1859, 3.1393, 3.1123, 3.0311, 3.017, 3.0169, 3.0111, 3.0054, 2.9627, 2.9582, 2.8864, 2.8241, 2.8317, 2.6275, 2.7602, 2.6557, 2.5306, -0.1152, 1.8702, 0.527, 0.0241, 0.7053, 0.7891, 0.2868, -0.124, 0.6526, 0.127, 0.3807, 0.0386, -0.2324, -0.0293, -0.0402, 0.0202, 0.1076, 0.373, -0.2252, 1.3892, 0.0947, -1.2109, -0.3847, -0.3395, -0.3398, -0.32, -0.3524, 0.0094, 0.0328, -0.0348, -1.3068, -0.6246, -0.9088, -0.4095, 3.8038, 3.7525, 2.7691, 2.7099, 2.7068, 2.6425, 2.5537, 2.4135, 2.3871, 2.3845, 2.3412, 2.2549, 2.235, 2.2263, 2.2245, 2.2189, 2.2151, 2.212, 2.2117, 2.2066, 2.1955, 2.1943, 2.1791, 2.1689, 2.1673, 2.1429, 2.1407, 2.1289, 2.127, 2.1235, 2.1145, 1.991, 1.9385, 2.0786, 1.7283, 2.0976, -0.3107, -0.2159, 1.7813, -0.7899, -0.2127, -0.4212, -0.2854, -0.5955, -0.428, -0.1815, -0.3295, -0.5018, -0.5102, -0.4819, -0.3483, -0.4451, -0.4561, -0.4992, -0.5424, -0.5496, -0.729, -0.3514, -1.2364, -0.4601, -0.2356, 0.0505, -0.6003, -0.6214, -0.4476, -0.7124, -0.5138, -0.7143, -0.679, -0.6009, -0.6409]}, \"token.table\": {\"Topic\": [1, 3, 1, 1, 2, 1, 1, 2, 1, 1, 2, 1, 2, 1, 2, 3, 1, 2, 3, 2, 3, 2, 1, 2, 3, 1, 4, 1, 2, 3, 1, 2, 3, 2, 3, 1, 2, 3, 4, 1, 2, 3, 1, 2, 3, 4, 1, 2, 3, 2, 3, 1, 4, 1, 2, 1, 2, 3, 1, 2, 3, 4, 5, 1, 2, 1, 2, 3, 1, 2, 3, 3, 1, 2, 2, 1, 2, 3, 1, 2, 3, 1, 2, 3, 2, 3, 1, 2, 3, 1, 2, 3, 1, 2, 3, 1, 2, 3, 4, 1, 2, 3, 1, 3, 1, 2, 3, 1, 2, 3, 1, 2, 3, 1, 2, 3, 1, 2, 3, 4, 5, 1, 1, 1, 2, 3, 1, 2, 3, 4, 5, 1, 2, 3, 4, 5, 2, 3, 1, 2, 3, 1, 2, 3, 4, 1, 2, 3, 4, 5, 1, 1, 2, 3, 1, 2, 1, 2, 1, 2, 3, 1, 2, 3, 4, 1, 2, 1, 2, 3, 4, 1, 2, 3, 4, 1, 2, 3, 1, 2, 3, 4, 5, 1, 2, 1, 1, 2, 3, 4, 5, 1, 2, 3, 4, 1, 4, 1, 2, 3, 4, 1, 2, 3, 4, 1, 2, 3, 4, 5, 1, 2, 3, 4, 5, 1, 2, 3, 2, 3, 1, 2, 3, 1, 2, 3, 1, 2, 3, 1, 2, 3, 4, 1, 2, 3, 4, 5, 1, 2, 1, 2, 3, 2, 3, 4, 1, 2, 3, 4, 1, 2, 3, 4, 1, 2, 3, 1, 2, 3, 1, 2, 3, 4, 5, 1, 2, 3, 1, 3, 1, 2, 3, 1, 2, 1, 2, 3, 4, 5, 1, 2, 1, 2, 1, 2, 3, 4, 5, 1, 2, 1, 2, 3, 4, 1, 2, 3, 4, 1, 2, 3, 1, 2, 3, 1, 2, 3, 1, 2, 3, 4, 1, 2, 1, 2, 3, 1, 2, 3, 1, 1, 2, 3, 4, 1, 2, 3, 1, 2, 3, 1, 2, 3, 1, 2, 3, 1, 2, 3, 4, 1, 2, 1, 2, 3, 1, 2, 3, 4, 5, 1, 2, 3, 4, 1, 2, 3, 4, 5, 1, 1, 2, 3, 1, 2, 3, 4, 5, 2, 3, 1, 2, 3, 4, 1, 2, 3, 1, 2, 3, 4, 1, 2, 3, 1, 2, 3, 1, 2, 3, 1, 2, 3, 4, 1, 2, 3, 4, 5, 1, 2, 3, 4, 5, 1, 2, 3, 4, 1, 2, 3, 1, 2, 3, 4, 5, 1, 2, 2, 2, 1, 2, 1, 2, 3, 4, 5, 1, 2, 3, 4, 2, 1, 2, 3, 4, 5, 1, 2, 3, 4, 1, 2, 1, 2, 3, 1, 2, 3, 1, 2, 3, 4, 5, 1, 2, 3, 1, 2, 3, 4, 5, 1, 2, 3, 1, 2, 3, 1, 2, 3, 4, 5, 1, 2, 3, 1, 2, 3, 4, 1, 2, 3, 4, 1, 2, 3, 4, 1, 2, 3, 1, 2, 3, 2, 3, 1, 2, 3, 2, 3, 1, 2, 3, 4, 2, 3, 1, 2, 3, 4, 1, 2, 3, 4, 1, 2, 3, 1, 2, 3, 4, 5, 1, 2, 3, 1, 2, 3, 4, 5, 1, 2, 3, 4, 5, 1, 2, 3, 4, 5, 1, 2, 3, 4, 5, 1, 2, 3, 1, 2, 1, 2, 3, 4, 1, 2, 3, 1, 4, 1, 2, 3, 1, 2, 1, 2, 3, 1, 2, 3, 1, 2, 3, 4, 5, 1, 2, 3, 4, 1, 2, 3, 4, 5, 1, 2, 3, 1, 2, 3, 1, 2, 3, 4, 5, 1, 2, 3, 1, 2, 3, 4, 1, 2, 3, 4, 1, 2, 3, 1, 2, 3, 4, 5, 1, 2, 3, 1, 2, 3, 1, 2, 3, 4, 5, 2, 3, 1, 2, 1, 2, 3, 1, 2, 3, 2, 3, 1, 2, 3, 1, 2, 3, 1, 2, 3, 1, 2, 3, 4, 1, 2, 3, 4, 5, 1, 2, 3, 4, 5, 1, 4, 1, 2, 3, 1, 2, 3, 4, 1, 2, 3, 4, 1, 2, 3, 1, 2, 3, 4, 5, 1, 2, 3, 1, 2, 3, 4, 5, 1, 2, 3, 4, 5, 1, 2, 3, 4, 1, 2, 1, 2, 1, 2, 3, 1, 2, 3, 4, 5, 1, 2, 3, 1, 2, 1, 2, 1, 2, 1, 2, 3, 4, 1, 2, 3, 1, 2, 3, 4, 2, 1, 2, 3, 4, 5, 1, 2, 3, 4, 1, 2, 3, 1, 2, 3, 4, 1, 2, 3, 1, 2, 3, 4, 5, 1, 2, 3, 1, 2, 3, 4, 5, 1, 2, 3, 1, 2, 3, 4, 5, 1, 2, 3, 2, 3, 1, 1, 2, 3, 2, 1, 2, 3, 4, 1, 2, 3, 4, 1, 2, 3, 4, 5, 1, 2, 3, 4, 5, 1, 2, 3, 1, 2, 3, 1, 2, 3, 4, 1, 1, 2, 3, 2, 1, 2, 4, 1, 2, 3, 2, 3, 1, 2, 3, 1, 1, 2, 3, 4, 1, 2, 3, 1, 2, 3, 1, 2, 3, 1, 2, 3, 4, 1, 2, 3, 1, 2, 3, 4, 1, 2, 3, 1, 2, 3, 1, 4, 1, 2, 3], \"Freq\": [0.5071855151383017, 0.3803891363537263, 0.835017394777714, 0.6295240906990127, 0.25180963627960506, 0.8284708201465895, 0.3287842222728238, 0.49317633340923567, 0.9374234109804667, 0.7832241842166492, 0.1958060460541623, 0.2290434793632085, 0.458086958726417, 0.006200583322413209, 0.9858927482637002, 0.012401166644826418, 0.9954363000171819, 0.0015105254931975446, 0.0015105254931975446, 0.12880404639076035, 0.772824278344562, 0.8940001421486704, 0.0023422643563341585, 0.9814087653040124, 0.014053586138004953, 0.9141314125421924, 0.050785078474566245, 0.0025779762163711723, 0.9899428670865301, 0.005155952432742345, 0.002166190502436511, 0.9856166786086125, 0.010830952512182555, 0.01006818120499809, 0.9866817580898128, 0.002638087410066008, 0.8428689275160895, 0.15300906978382847, 0.001319043705033004, 0.00322366858217263, 0.00322366858217263, 0.9928899233091699, 0.00279897230121485, 0.9852382500276273, 0.0111958892048594, 0.001399486150607425, 0.9963533909172395, 0.0019050734051954867, 0.0019050734051954867, 0.01048211136009674, 0.9853184678490935, 0.6946024545432814, 0.23153415151442713, 0.36040841739598295, 0.5406126260939744, 0.0038068207609632445, 0.9859665770894803, 0.00951705190240811, 0.003936744822291835, 0.9865482524663338, 0.00787348964458367, 0.000787348964458367, 0.000787348964458367, 0.9946437936956888, 0.004805042481621685, 0.0054519606619853, 0.0163558819859559, 0.981352919157354, 0.9920167895628091, 0.002732828621385149, 0.002732828621385149, 0.9872824031985722, 0.9948696856105589, 0.0034070879644197225, 0.973285947544194, 0.002417000178346631, 0.007251000535039893, 0.988553072943772, 0.0024937332731819694, 0.0024937332731819694, 0.9925058427264238, 0.0028866393880960625, 0.0028866393880960625, 0.9930039495050454, 0.00834411467661658, 0.9846055318407565, 0.0036208778886716755, 0.007241755777343351, 0.9884996636073674, 0.0031277879377414677, 0.9836893064196917, 0.012511151750965871, 0.002451960986752077, 0.004903921973504154, 0.9905922386478393, 0.0029025242342253775, 0.9854069775195156, 0.01161009693690151, 0.0014512621171126887, 0.00361442108942289, 0.9722792730547574, 0.023493737081248786, 0.007227700381798208, 0.9901949523063545, 0.0071957115902314865, 0.0071957115902314865, 0.9858124878617136, 0.003864550679297378, 0.9854604232208314, 0.007729101358594756, 0.00862621812602557, 0.00862621812602557, 0.9920150844929405, 0.002922831342359496, 0.980609915361611, 0.014614156711797482, 0.004693013494313254, 0.9714537933228435, 0.02252646477270362, 0.0009386026988626508, 0.0009386026988626508, 0.9229966569604608, 0.9934365777568313, 0.9946569014529791, 0.003739311659597666, 0.003739311659597666, 0.0023197250581517017, 0.9835634246563214, 0.011598625290758507, 0.0011598625290758508, 0.0011598625290758508, 0.16084766004031587, 0.4811798643578941, 0.3564547720384966, 0.0006815578815267621, 0.0006815578815267621, 0.5822302740539335, 0.29111513702696673, 0.9959343661301847, 0.0019301053607174122, 0.0019301053607174122, 0.003160447499250965, 0.022755221994606948, 0.972785740269447, 0.000632089499850193, 0.9966485754265295, 0.00135709228680083, 0.001085673829440664, 0.000542836914720332, 0.000407127686040249, 0.9957205475174612, 0.9948749239981323, 0.002112260985134039, 0.002112260985134039, 0.35995820474003254, 0.5399373071100487, 0.7215875821664272, 0.1803968955416068, 0.002440778794018805, 0.9763115176075219, 0.01952623035215044, 0.01651696766777416, 0.9384640720326227, 0.043544732942313695, 0.0015015425152521964, 0.17359026639912245, 0.8100879098625714, 0.0070553207921133605, 0.9806895901037571, 0.011758867986855602, 0.00235177359737112, 0.10914371474029518, 0.8484104759145612, 0.04074698683637686, 0.0014552495298706023, 0.009305666413632492, 0.06203777609088328, 0.9274647525587051, 0.030331763999144695, 0.9309175215619849, 0.03657653894014507, 0.0013381660587857955, 0.00044605535292859845, 0.2900116971841266, 0.5800233943682532, 0.9941372381454116, 0.975403768037172, 0.012783290049732596, 0.010071683069486288, 0.0015494897029978904, 0.0003873724257494726, 0.9929056173205089, 0.003528762744808561, 0.0013232860293032104, 0.0017643813724042806, 0.9566560164034572, 0.039860667350144055, 0.9682067711575332, 0.010267304041967478, 0.01848114727554146, 0.0020534608083934954, 0.9777227526679637, 0.009842846503368762, 0.008202372086140636, 0.001640474417228127, 0.7190129217110587, 0.08329675038326022, 0.1966728828493644, 0.0011568993108786142, 0.0005784496554393071, 0.9935247383793723, 0.0019291742492803345, 0.003858348498560669, 0.0009645871246401673, 0.0009645871246401673, 0.004439309524048405, 0.004439309524048405, 0.9899660238627943, 0.9077702881948279, 0.9866920962379154, 0.002573138836054681, 0.9623539246844508, 0.033450804868710854, 0.003547055437668719, 0.9896284671095725, 0.007094110875337438, 0.0027490110932859137, 0.9896439935829289, 0.005498022186571827, 0.10595590228458104, 0.8488792636520505, 0.04312158813907368, 0.0012320453754021052, 0.3603656542287416, 0.3682224635505892, 0.26975045338343306, 0.001047574576246342, 0.000523787288123171, 0.16188032285422282, 0.6475212914168913, 0.9935712774130514, 0.003535840844886304, 0.001767920422443152, 0.22050254414524725, 0.6615076324357417, 0.11025127207262363, 0.7033398831541664, 0.16549173721274504, 0.12411880290955878, 0.006895489050531043, 0.02448759482399982, 0.18951269037704208, 0.7846677124038203, 0.0010646780358260792, 0.0021882103849431484, 0.09628125693749853, 0.899354468211634, 0.00323948658471785, 0.9848039217542264, 0.00971845975415355, 0.9308172257730345, 0.05582909458403063, 0.011963377410863707, 0.000664632078381317, 0.0003323160391906585, 0.9948878463136964, 0.002034535473034144, 0.002034535473034144, 0.9954831517680527, 0.0034565387214168498, 0.002509753945897604, 0.9863333007377585, 0.007529261837692813, 0.541841653691377, 0.36122776912758475, 0.5484673220377038, 0.318731953184175, 0.13108024048699837, 0.0006898960025631494, 0.0006898960025631494, 0.458637741853161, 0.458637741853161, 0.17953695670990222, 0.7181478268396089, 0.30125292885941424, 0.517216067470319, 0.17996928217575398, 0.0007824751398945825, 0.0007824751398945825, 0.40539296071660763, 0.40539296071660763, 0.9309144042422473, 0.026413488286458224, 0.041230810983739666, 0.001932694264862797, 0.9496339239429473, 0.026119597122202874, 0.020522540596016544, 0.0037313710174575535, 0.9572783297790403, 0.005078399627475015, 0.03681839729919385, 0.9940580265333581, 0.0012317943327550904, 0.002463588665510181, 0.9946981274309189, 0.0015639907664008158, 0.0015639907664008158, 0.20776453955360713, 0.4560685014591376, 0.3351741526596519, 0.0007239182562843454, 0.5808587164462161, 0.29042935822310806, 0.005127293514798358, 0.010254587029596716, 0.9844403548412847, 0.9968615733543882, 0.0011263972580275573, 0.0011263972580275573, 0.9939787501928132, 0.9955361895942934, 0.0014334574364208688, 0.0014334574364208688, 0.0014334574364208688, 0.00378039778560392, 0.9866838220426232, 0.01134119335681176, 0.004555471752484784, 0.004555471752484784, 0.9885373702891981, 0.004535553158237905, 0.004535553158237905, 0.9887505884958632, 0.001695909540781772, 0.006783638163127088, 0.988715262275773, 0.025625871278051954, 0.9130902555390091, 0.05799539289243337, 0.0013487300672658923, 0.358998094604579, 0.5384971419068685, 0.996456864129773, 0.002466477386459834, 0.002466477386459834, 0.5502470024428439, 0.3832206455909425, 0.06435214614640355, 0.0014461156437394057, 0.0007230578218697029, 0.9944596180171089, 0.002404980938372694, 0.001202490469186347, 0.002404980938372694, 0.7954284253971164, 0.14783274480334757, 0.05571308666096308, 0.000551614719415476, 0.000551614719415476, 0.9918255002107881, 0.20463616933300025, 0.4092723386660005, 0.20463616933300025, 0.285221341175388, 0.3692766370846911, 0.34472115738084974, 0.0009444415270708212, 0.0009444415270708212, 0.9862263058863802, 0.006994512807704824, 0.11932575302100669, 0.7830752542003564, 0.09570919773559912, 0.0012429765939688197, 0.9961970905885611, 0.0016856126744307293, 0.0016856126744307293, 0.0032655537706523827, 0.989462792507672, 0.006531107541304765, 0.0016327768853261913, 0.5073022402605382, 0.16910074675351272, 0.16910074675351272, 0.6299640497278098, 0.15749101243195246, 0.15749101243195246, 0.12639945548143156, 0.5055978219257262, 0.2527989109628631, 0.5251673601543182, 0.37070637187363636, 0.10176253345550802, 0.001817188097419786, 0.9446859746566026, 0.03489522235836369, 0.019176653728470137, 0.0006287427451957422, 0.0006287427451957422, 0.4695223783712004, 0.3637298796441239, 0.1652326139912587, 0.0010906443167739846, 0.0005453221583869923, 0.10782911592627152, 0.6962414467998049, 0.19427832093612712, 0.0009295613441919958, 0.004883370244912553, 0.004883370244912553, 0.9913241597172483, 0.33862958644597374, 0.4586116521471551, 0.20098518619994846, 0.0012180920375754452, 0.0006090460187877226, 0.17926777890845752, 0.7170711156338301, 0.8073836182785536, 0.9269385771580377, 0.2039265270748366, 0.6117795812245098, 0.40414963988076885, 0.5145367803258146, 0.08022671955842128, 0.0012064168354649816, 0.0006032084177324908, 0.6379874760741645, 0.27785829249945365, 0.08227089107525722, 0.0015522809636840985, 0.9222329722580551, 0.36047958161058014, 0.3515235671606278, 0.28603271149535164, 0.0011195018062440376, 0.0005597509031220188, 0.8560712286899016, 0.08689886272023692, 0.05401821196122836, 0.0023486179113577548, 0.15306605271245213, 0.7653302635622606, 0.005544283539644882, 0.011088567079289765, 0.9813381865171442, 0.007602901071969942, 0.007602901071969942, 0.9883771393560924, 0.3058853790775509, 0.47452385775753725, 0.21828097456846712, 0.0007300367042423649, 0.0007300367042423649, 0.09211545540996431, 0.010235050601107146, 0.8938610858300241, 0.4155720025503682, 0.4359883766851723, 0.1462075825137587, 0.0013171854280518802, 0.0006585927140259401, 0.01471641590773255, 0.004905471969244184, 0.9810943938488368, 0.005006061440896887, 0.005006061440896887, 0.9912001652975836, 0.21372217478186895, 0.574730892301976, 0.20996166730770116, 0.0006267512456946304, 0.0006267512456946304, 0.14619867259775704, 0.5847946903910282, 0.14619867259775704, 0.9739790375916211, 0.003307229329682924, 0.021496990642939005, 0.001653614664841462, 0.9923300310983203, 0.001548096772384275, 0.001548096772384275, 0.00309619354476855, 0.03469306238718142, 0.8522426195111957, 0.11162115724571413, 0.001508394016833975, 0.9946786254663358, 0.002373934666984095, 0.002373934666984095, 0.650131729598878, 0.13002634591977558, 0.2275461053596073, 0.008022488773794858, 0.9867661191767675, 0.020887038688692617, 0.02506444642643114, 0.9524489642043833, 0.2054160872395327, 0.616248261718598, 0.1202661108323032, 0.25309733772171267, 0.624665769696142, 0.0017950165795866148, 0.6107750352836597, 0.20359167842788659, 0.004217513765668109, 0.9854923832444481, 0.008435027531336218, 0.0014058379218893696, 0.8128633214644747, 0.11964222047529065, 0.06509944349390814, 0.0017594444187542743, 0.9724604017481346, 0.019067851014669308, 0.005720355304400792, 0.709005531018491, 0.22091623407437794, 0.06858771166208123, 0.000797531530954433, 0.000797531530954433, 0.003455907795788343, 0.9883896295954662, 0.006911815591576686, 0.4072143362515354, 0.5205490706128042, 0.06984582466450283, 0.001976768622580269, 0.000658922874193423, 0.6402303111027651, 0.28345134081546863, 0.07456002660580806, 0.0018485957009704477, 0.0006161985669901493, 0.251170039316753, 0.3912085778616435, 0.3558777539168317, 0.001284757234356793, 0.0006423786171783965, 0.08573330684502706, 0.6324588209879045, 0.28109280932795755, 0.0007027320233198938, 0.0007027320233198938, 0.004036692609527683, 0.020183463047638416, 0.9728429188961717, 0.5963688920461463, 0.19878963068204875, 0.2981420122523925, 0.14679511290289554, 0.554179999873722, 0.0022758932233007062, 0.14306720842359566, 0.2861344168471913, 0.429201625270787, 0.9388513420288499, 0.031295044734294994, 0.9963228271205737, 0.0034355959555881855, 0.0034355959555881855, 0.995172411873623, 0.004926596098384272, 0.0033448808618884765, 0.9867398542571006, 0.01003464258566543, 0.9961051493821973, 0.0034586984353548516, 0.0034586984353548516, 0.5882655924117556, 0.37247867038552557, 0.03805371031582894, 0.0008953814191959749, 0.00044769070959798746, 0.8524262222251162, 0.13246583069895854, 0.013762683708982704, 0.000860167731811419, 0.3001671799098124, 0.5153813843734515, 0.18264889720927263, 0.0007079414620514443, 0.0007079414620514443, 0.0028300801499131925, 0.005660160299826385, 0.9905280524696175, 0.006285257009278947, 0.03142628504639474, 0.961644322419679, 0.3308228694824778, 0.47845173618865444, 0.18923336550519013, 0.0013420806064197881, 0.0006710403032098941, 0.22287783046121268, 0.08559800735104545, 0.6896292290357813, 0.03409797729601366, 0.12616251599525052, 0.838810241481936, 0.001704898864800683, 0.9946109629611662, 0.0022102465843581473, 0.0022102465843581473, 0.0022102465843581473, 0.0061783943381722, 0.0061783943381722, 0.988543094107552, 0.38630361068280517, 0.463680689328608, 0.1483545492833062, 0.0011635650924180878, 0.0005817825462090439, 0.005665892429014676, 0.005665892429014676, 0.9915311750775684, 0.9928238181511793, 0.0028611637410696808, 0.0028611637410696808, 0.4924268835237993, 0.36126918803113456, 0.1452103057240217, 0.000585525426306539, 0.000585525426306539, 0.009504114011821115, 0.988427857229396, 0.3599331532454671, 0.5398997298682007, 0.0036475659303464095, 0.007295131860692819, 0.988490367123877, 0.004533269118606585, 0.013599807355819754, 0.9791861296190223, 0.007224405240491163, 0.9897435179472893, 0.04297479858240306, 0.011720399613382651, 0.9415387689417396, 0.004813597096912963, 0.01444079129073889, 0.9819738077702445, 0.004386900621958921, 0.015354152176856225, 0.9782788386968394, 0.8036619575982484, 0.04564006178953016, 0.14882628844412008, 0.0019843505125882676, 0.01882173905709638, 0.9705260831748928, 0.009169565181662339, 0.000965217387543404, 0.000482608693771702, 0.021852285760327935, 0.9671659808737734, 0.009712127004590192, 0.0016186878340983654, 0.0008093439170491827, 0.9788993062341032, 0.012236241327926289, 0.00436739764824574, 0.9870318685035374, 0.00873479529649148, 0.3689717794463566, 0.4508609243745021, 0.1778971079473505, 0.001882509078807942, 0.2676950549962189, 0.030461851085776627, 0.6987764021797851, 0.0027692591896160573, 0.004734020309131375, 0.9846762242993261, 0.00946804061826275, 0.3416066476314454, 0.5021683794969023, 0.15461500105562517, 0.000660747867759082, 0.000660747867759082, 0.003275209424960904, 0.003275209424960904, 0.9923884557631538, 0.932457273276863, 0.045270750539327824, 0.020431931659342647, 0.0016025044438700115, 0.00020031305548375144, 0.9954260317237922, 0.001621215035380769, 0.001621215035380769, 0.0008106075176903845, 0.0008106075176903845, 0.8973148053067895, 0.08862368447474465, 0.011077960559343082, 0.0027694901398357705, 0.6148974173756081, 0.30744870868780405, 0.36223107037554453, 0.5433466055633168, 0.003116327933144284, 0.9847596268735938, 0.012465311732577136, 0.9135653015941771, 0.01780829047941866, 0.06767150382179091, 0.0008904145239709329, 0.0008904145239709329, 0.9666836795171881, 0.9847890673279467, 0.006791648740192736, 0.14386955651848174, 0.8632173391108905, 0.4008674768285222, 0.4008674768285222, 0.13447611105448937, 0.8068566663269361, 0.027492951313447745, 0.1814534786687551, 0.7897350264787865, 0.0013746475656723873, 0.006182372935131209, 0.006182372935131209, 0.9891796696209934, 0.7629115650986633, 0.06647777123266362, 0.16619442808165902, 0.0031656081539363627, 0.9467981531136, 0.595870351140815, 0.24447790722643487, 0.15823351429815902, 0.0007127635779196352, 0.0007127635779196352, 0.38946850030708213, 0.33965276189571114, 0.2694578577705975, 0.0007547839153238026, 0.10981076721838334, 0.21962153443676669, 0.6588646033103001, 0.6177870369748298, 0.22704160822576555, 0.15395954549215002, 0.0019488550062297472, 0.003315387002116506, 0.9846699396286024, 0.009946161006349518, 0.7219667838322515, 0.26836480632023857, 0.007854579697177714, 0.0019636449242944284, 0.0006545483080981428, 0.20445581078657668, 0.07667092904496625, 0.7179186992392295, 0.9702806306335566, 0.013946157013705779, 0.01450400329425401, 0.0005578462805482311, 0.0005578462805482311, 0.007850749955370887, 0.03532837479916899, 0.9538661195775628, 0.9676149786452277, 0.01628732175225326, 0.014066323331491451, 0.0007403328069206026, 0.0007403328069206026, 0.9947431008526693, 0.003032753356258138, 0.003032753356258138, 0.9824019719852869, 0.009446172807550836, 0.8982954536712527, 0.40638853259996244, 0.40638853259996244, 0.13546284419998747, 0.8120555522896865, 0.026895679692611255, 0.058428545539121, 0.913525672318003, 0.0009274372307796984, 0.841006716440351, 0.14002719651865422, 0.017714283896938184, 0.0008435373284256278, 0.53642901700358, 0.30759068102652093, 0.154080675096773, 0.0011413383340501703, 0.0005706691670250852, 0.2758732915672689, 0.5956355158838761, 0.12539695071239496, 0.0023511928258574052, 0.0007837309419524685, 0.004859935627265666, 0.004859935627265666, 0.9914268679621958, 0.18199183065435773, 0.36398366130871546, 0.36398366130871546, 0.05879606373013502, 0.897976246060244, 0.04169175428136847, 0.0010690193405479094, 0.900163355065288, 0.00674987408117593, 0.00674987408117593, 0.9854816158516858, 0.9180292731315831, 0.05201275951117477, 0.8842169116899711, 0.05201275951117477, 0.2026830776156692, 0.6080492328470076, 0.1013415388078346, 0.010266333767695535, 0.9855680416987713, 0.380775169161889, 0.2538501127745927, 0.2538501127745927, 0.8667590461102906, 0.4742852550584058, 0.1897141020233623, 0.2845711530350435, 0.04742852550584058, 0.0027229331621125897, 0.982978871522645, 0.010891732648450359, 0.004867144524388413, 0.9831631939264595, 0.009734289048776826, 0.006405902664230505, 0.9865090102914977, 0.006405902664230505, 0.16105126294545002, 0.23305065108576883, 0.6025211954900365, 0.001894720740534706, 0.006053799093655959, 0.9867692522659214, 0.012107598187311918, 0.009622916573113338, 0.7229216075551396, 0.26583307033225595, 0.0012028645716391673, 0.3167526737741475, 0.47512901066122126, 0.15837633688707375, 0.004627227553768015, 0.9832858551757032, 0.011568068884420038, 0.9635764138472497, 0.029199285268098476, 0.004914726074963547, 0.9878599410676729, 0.009829452149927094], \"Term\": [\"3 minutes\", \"3 minutes\", \"3 years later\", \"4 - 5 months\", \"4 - 5 months\", \"4 days later\", \"50 pounds\", \"50 pounds\", \"7 day\", \"70 %\", \"70 %\", \"A few days\", \"A few days\", \"Abilify\", \"Abilify\", \"Abilify\", \"Accutane\", \"Accutane\", \"Accutane\", \"Actavis\", \"Actavis\", \"Agoraphobia\", \"Ativan\", \"Ativan\", \"Ativan\", \"Aubra\", \"Aubra\", \"Buspar\", \"Buspar\", \"Buspar\", \"Celexa\", \"Celexa\", \"Celexa\", \"Contin\", \"Contin\", \"Cymbalta\", \"Cymbalta\", \"Cymbalta\", \"Cymbalta\", \"Dilaudid\", \"Dilaudid\", \"Dilaudid\", \"Effexor\", \"Effexor\", \"Effexor\", \"Effexor\", \"Epiduo\", \"Epiduo\", \"Epiduo\", \"Fentanyl\", \"Fentanyl\", \"Gyn\", \"Gyn\", \"Itchy\", \"Itchy\", \"Klonopin\", \"Klonopin\", \"Klonopin\", \"Lexapro\", \"Lexapro\", \"Lexapro\", \"Lexapro\", \"Lexapro\", \"Loestrin\", \"Loestrin\", \"Lortab\", \"Lortab\", \"Lortab\", \"Mirena\", \"Mirena\", \"Mirena\", \"Morphine\", \"Nexplanon\", \"Nexplanon\", \"Niacin\", \"Norco\", \"Norco\", \"Norco\", \"Nucynta\", \"Nucynta\", \"Nucynta\", \"Opana\", \"Opana\", \"Opana\", \"Oxycodone\", \"Oxycodone\", \"Oxycontin\", \"Oxycontin\", \"Oxycontin\", \"Paxil\", \"Paxil\", \"Paxil\", \"Percocet\", \"Percocet\", \"Percocet\", \"Pristiq\", \"Pristiq\", \"Pristiq\", \"Pristiq\", \"Prozac\", \"Prozac\", \"Prozac\", \"Toradol\", \"Toradol\", \"Vicodin\", \"Vicodin\", \"Vicodin\", \"Viibryd\", \"Viibryd\", \"Viibryd\", \"Voltaren\", \"Voltaren\", \"Voltaren\", \"Wellbutrin\", \"Wellbutrin\", \"Wellbutrin\", \"Xanax\", \"Xanax\", \"Xanax\", \"Xanax\", \"Xanax\", \"Xulane\", \"Yasmin\", \"Yaz\", \"Yaz\", \"Yaz\", \"Zoloft\", \"Zoloft\", \"Zoloft\", \"Zoloft\", \"Zoloft\", \"able\", \"able\", \"able\", \"able\", \"able\", \"about 10 hours\", \"about 10 hours\", \"accutane\", \"accutane\", \"accutane\", \"acetaminophen\", \"acetaminophen\", \"acetaminophen\", \"acetaminophen\", \"acne\", \"acne\", \"acne\", \"acne\", \"acne\", \"aczone\", \"adapalene\", \"adapalene\", \"adapalene\", \"adolescent\", \"adolescent\", \"age 12\", \"age 12\", \"alprazolam\", \"alprazolam\", \"alprazolam\", \"antidepressant\", \"antidepressant\", \"antidepressant\", \"antidepressant\", \"antihistamine\", \"antihistamine\", \"anxiety_panic\", \"anxiety_panic\", \"anxiety_panic\", \"anxiety_panic\", \"anxious\", \"anxious\", \"anxious\", \"anxious\", \"arthritis\", \"arthritis\", \"arthritis\", \"attack\", \"attack\", \"attack\", \"attack\", \"attack\", \"backup\", \"backup\", \"benzoylperoxide\", \"birth\", \"birth\", \"birth\", \"birth\", \"birth\", \"birth_control\", \"birth_control\", \"birth_control\", \"birth_control\", \"birthcontrol\", \"birthcontrol\", \"bleed\", \"bleed\", \"bleed\", \"bleed\", \"bleeding\", \"bleeding\", \"bleeding\", \"bleeding\", \"break\", \"break\", \"break\", \"break\", \"break\", \"breakout\", \"breakout\", \"breakout\", \"breakout\", \"breakout\", \"breakthrough_pain\", \"breakthrough_pain\", \"breakthrough_pain\", \"brink\", \"buprenorphine\", \"bupropion\", \"bupropion\", \"bupropion\", \"buspar\", \"buspar\", \"buspar\", \"buspirone\", \"buspirone\", \"buspirone\", \"calm\", \"calm\", \"calm\", \"calm\", \"cause\", \"cause\", \"cause\", \"cause\", \"cause\", \"cave\", \"cave\", \"chin\", \"chin\", \"chin\", \"chip\", \"chip\", \"chip\", \"choose\", \"choose\", \"choose\", \"choose\", \"chronic\", \"chronic\", \"chronic\", \"chronic\", \"chronic_pain\", \"chronic_pain\", \"chronic_pain\", \"citalopram\", \"citalopram\", \"citalopram\", \"clear\", \"clear\", \"clear\", \"clear\", \"clear\", \"clear_skin\", \"clear_skin\", \"clear_skin\", \"clindamycin\", \"clindamycin\", \"clonazepam\", \"clonazepam\", \"clonazepam\", \"coarse\", \"coarse\", \"completely\", \"completely\", \"completely\", \"completely\", \"completely\", \"conquer\", \"conquer\", \"consent\", \"consent\", \"couldn\", \"couldn\", \"couldn\", \"couldn\", \"couldn\", \"cracker\", \"cracker\", \"cramp\", \"cramp\", \"cramp\", \"cramp\", \"cramping\", \"cramping\", \"cramping\", \"cramping\", \"cream\", \"cream\", \"cream\", \"cystic\", \"cystic\", \"cystic\", \"cystic_acne\", \"cystic_acne\", \"cystic_acne\", \"daily\", \"daily\", \"daily\", \"daily\", \"day 8\", \"day 8\", \"degenerative\", \"degenerative\", \"degenerative\", \"dermatologist\", \"dermatologist\", \"dermatologist\", \"dermatologist_prescribe\", \"desogestrel\", \"desogestrel\", \"desogestrel\", \"desogestrel\", \"desvenlafaxine\", \"desvenlafaxine\", \"desvenlafaxine\", \"diclofenac\", \"diclofenac\", \"diclofenac\", \"dilaudid\", \"dilaudid\", \"dilaudid\", \"disc\", \"disc\", \"disc\", \"disorder\", \"disorder\", \"disorder\", \"disorder\", \"docter\", \"docter\", \"doxycycline\", \"doxycycline\", \"doxycycline\", \"drive\", \"drive\", \"drive\", \"drive\", \"drive\", \"drospirenone\", \"drospirenone\", \"drospirenone\", \"drospirenone\", \"dry\", \"dry\", \"dry\", \"dry\", \"dry\", \"dry_lip\", \"dying\", \"dying\", \"dying\", \"effective\", \"effective\", \"effective\", \"effective\", \"effective\", \"effexorxr\", \"effexorxr\", \"energy\", \"energy\", \"energy\", \"energy\", \"epiduo\", \"epiduo\", \"epiduo\", \"escitalopram\", \"escitalopram\", \"escitalopram\", \"escitalopram\", \"evolve\", \"evolve\", \"evolve\", \"excruciatingly\", \"excruciatingly\", \"excruciatingly\", \"excuse\", \"excuse\", \"excuse\", \"extremely\", \"extremely\", \"extremely\", \"extremely\", \"face\", \"face\", \"face\", \"face\", \"face\", \"far\", \"far\", \"far\", \"far\", \"far\", \"feeling\", \"feeling\", \"feeling\", \"feeling\", \"fentanyl\", \"fentanyl\", \"fentanyl\", \"finally\", \"finally\", \"finally\", \"finally\", \"finally\", \"fingertip\", \"fingertip\", \"fist\", \"fluvoxamine\", \"furious\", \"furious\", \"happy\", \"happy\", \"happy\", \"happy\", \"happy\", \"haven\", \"haven\", \"haven\", \"haven\", \"haziness\", \"headache\", \"headache\", \"headache\", \"headache\", \"headache\", \"heavy\", \"heavy\", \"heavy\", \"heavy\", \"helplessness\", \"helplessness\", \"herniate\", \"herniate\", \"herniate\", \"herniate_disc\", \"herniate_disc\", \"herniate_disc\", \"high\", \"high\", \"high\", \"high\", \"high\", \"hip\", \"hip\", \"hip\", \"hope\", \"hope\", \"hope\", \"hope\", \"hope\", \"hydrocodone\", \"hydrocodone\", \"hydrocodone\", \"hydromorphone\", \"hydromorphone\", \"hydromorphone\", \"increase\", \"increase\", \"increase\", \"increase\", \"increase\", \"indigestion\", \"indigestion\", \"indigestion\", \"insert\", \"insert\", \"insert\", \"insert\", \"insertion\", \"insertion\", \"insertion\", \"insertion\", \"insomnia\", \"insomnia\", \"insomnia\", \"insomnia\", \"isotretinoin\", \"isotretinoin\", \"isotretinoin\", \"itchiness\", \"itchiness\", \"itchiness\", \"ketorolac\", \"ketorolac\", \"knee\", \"knee\", \"knee\", \"last Friday\", \"last Friday\", \"leg\", \"leg\", \"leg\", \"leg\", \"lesson\", \"lesson\", \"lexapro\", \"lexapro\", \"lexapro\", \"lexapro\", \"light\", \"light\", \"light\", \"light\", \"lip\", \"lip\", \"lip\", \"look\", \"look\", \"look\", \"look\", \"look\", \"lorazepam\", \"lorazepam\", \"lorazepam\", \"lose\", \"lose\", \"lose\", \"lose\", \"lose\", \"love\", \"love\", \"love\", \"love\", \"love\", \"low\", \"low\", \"low\", \"low\", \"low\", \"med\", \"med\", \"med\", \"med\", \"med\", \"methadone\", \"methadone\", \"methadone\", \"midway\", \"midway\", \"migraine\", \"migraine\", \"migraine\", \"migraine\", \"migraines\", \"migraines\", \"migraines\", \"mild_cramping\", \"mild_cramping\", \"minocycline\", \"minocycline\", \"minocycline\", \"mirena\", \"mirena\", \"mirtazapine\", \"mirtazapine\", \"mirtazapine\", \"moisturizer\", \"moisturizer\", \"moisturizer\", \"mood\", \"mood\", \"mood\", \"mood\", \"mood\", \"mood_swing\", \"mood_swing\", \"mood_swing\", \"mood_swing\", \"morning\", \"morning\", \"morning\", \"morning\", \"morning\", \"morphine\", \"morphine\", \"morphine\", \"narcotic\", \"narcotic\", \"narcotic\", \"nausea\", \"nausea\", \"nausea\", \"nausea\", \"nausea\", \"neck\", \"neck\", \"neck\", \"nerve\", \"nerve\", \"nerve\", \"nerve\", \"nexplanon\", \"nexplanon\", \"nexplanon\", \"nexplanon\", \"norco\", \"norco\", \"norco\", \"normal\", \"normal\", \"normal\", \"normal\", \"normal\", \"nucynta\", \"nucynta\", \"nucynta\", \"oily\", \"oily\", \"oily\", \"old\", \"old\", \"old\", \"old\", \"old\", \"opana\", \"opana\", \"overseas\", \"overseas\", \"oxycodone\", \"oxycodone\", \"oxycodone\", \"oxycontin\", \"oxycontin\", \"oxycontin\", \"oxymorphone\", \"oxymorphone\", \"pain_free\", \"pain_free\", \"pain_free\", \"pain_management\", \"pain_management\", \"pain_management\", \"pain_relief\", \"pain_relief\", \"pain_relief\", \"painful\", \"painful\", \"painful\", \"painful\", \"panic\", \"panic\", \"panic\", \"panic\", \"panic\", \"panic_attack\", \"panic_attack\", \"panic_attack\", \"panic_attack\", \"panic_attack\", \"paragard\", \"paragard\", \"paroxetine\", \"paroxetine\", \"paroxetine\", \"past\", \"past\", \"past\", \"past\", \"patch\", \"patch\", \"patch\", \"patch\", \"paxil\", \"paxil\", \"paxil\", \"people\", \"people\", \"people\", \"people\", \"people\", \"percocet\", \"percocet\", \"percocet\", \"period\", \"period\", \"period\", \"period\", \"period\", \"pimple\", \"pimple\", \"pimple\", \"pimple\", \"pimple\", \"pregnant\", \"pregnant\", \"pregnant\", \"pregnant\", \"pressured\", \"pressured\", \"presumably\", \"presumably\", \"pristiq\", \"pristiq\", \"pristiq\", \"product\", \"product\", \"product\", \"product\", \"product\", \"protection\", \"prozac\", \"prozac\", \"psychiatry\", \"psychiatry\", \"psychology\", \"psychology\", \"refreshing\", \"refreshing\", \"relief\", \"relief\", \"relief\", \"relief\", \"relieve_pain\", \"relieve_pain\", \"relieve_pain\", \"remove\", \"remove\", \"remove\", \"remove\", \"restaurant\", \"result\", \"result\", \"result\", \"result\", \"result\", \"right\", \"right\", \"right\", \"right\", \"runny\", \"runny\", \"runny\", \"second\", \"second\", \"second\", \"second\", \"sertraline\", \"sertraline\", \"sertraline\", \"sex\", \"sex\", \"sex\", \"sex\", \"sex\", \"shoulder\", \"shoulder\", \"shoulder\", \"skin\", \"skin\", \"skin\", \"skin\", \"skin\", \"spinal\", \"spinal\", \"spinal\", \"spot\", \"spot\", \"spot\", \"spot\", \"spot\", \"spotting\", \"spotting\", \"spotting\", \"ssri\", \"ssri\", \"stung\", \"subject\", \"subject\", \"subject\", \"submit\", \"surgery\", \"surgery\", \"surgery\", \"surgery\", \"swing\", \"swing\", \"swing\", \"swing\", \"switch\", \"switch\", \"switch\", \"switch\", \"switch\", \"symptom\", \"symptom\", \"symptom\", \"symptom\", \"symptom\", \"tapentadol\", \"tapentadol\", \"tapentadol\", \"the last 15 years\", \"the last 15 years\", \"the last 15 years\", \"thought\", \"thought\", \"thought\", \"thought\", \"topically\", \"toradol\", \"toradol\", \"toradol\", \"tragic\", \"tremble\", \"tremble\", \"tremble\", \"troublesome\", \"troublesome\", \"troublesome\", \"ultram\", \"ultram\", \"unreal\", \"unreal\", \"unreal\", \"vegan\", \"vein\", \"vein\", \"vein\", \"vein\", \"venlafaxine\", \"venlafaxine\", \"venlafaxine\", \"viibryd\", \"viibryd\", \"viibryd\", \"vilazodone\", \"vilazodone\", \"vilazodone\", \"walk\", \"walk\", \"walk\", \"walk\", \"wellbutrin\", \"wellbutrin\", \"wellbutrin\", \"withdrawal\", \"withdrawal\", \"withdrawal\", \"withdrawal\", \"witness\", \"witness\", \"witness\", \"xanax\", \"xanax\", \"xanax\", \"xulane\", \"xulane\", \"zoloft\", \"zoloft\", \"zoloft\"]}, \"R\": 30, \"lambda.step\": 0.01, \"plot.opts\": {\"xlab\": \"PC1\", \"ylab\": \"PC2\"}, \"topic.order\": [3, 1, 5, 2, 4]};\n",
       "\n",
       "function LDAvis_load_lib(url, callback){\n",
       "  var s = document.createElement('script');\n",
       "  s.src = url;\n",
       "  s.async = true;\n",
       "  s.onreadystatechange = s.onload = callback;\n",
       "  s.onerror = function(){console.warn(\"failed to load library \" + url);};\n",
       "  document.getElementsByTagName(\"head\")[0].appendChild(s);\n",
       "}\n",
       "\n",
       "if(typeof(LDAvis) !== \"undefined\"){\n",
       "   // already loaded: just create the visualization\n",
       "   !function(LDAvis){\n",
       "       new LDAvis(\"#\" + \"ldavis_el297214103278179047071865486\", ldavis_el297214103278179047071865486_data);\n",
       "   }(LDAvis);\n",
       "}else if(typeof define === \"function\" && define.amd){\n",
       "   // require.js is available: use it to load d3/LDAvis\n",
       "   require.config({paths: {d3: \"https://cdnjs.cloudflare.com/ajax/libs/d3/3.5.5/d3.min\"}});\n",
       "   require([\"d3\"], function(d3){\n",
       "      window.d3 = d3;\n",
       "      LDAvis_load_lib(\"https://cdn.rawgit.com/bmabey/pyLDAvis/files/ldavis.v1.0.0.js\", function(){\n",
       "        new LDAvis(\"#\" + \"ldavis_el297214103278179047071865486\", ldavis_el297214103278179047071865486_data);\n",
       "      });\n",
       "    });\n",
       "}else{\n",
       "    // require.js not available: dynamically load d3 & LDAvis\n",
       "    LDAvis_load_lib(\"https://cdnjs.cloudflare.com/ajax/libs/d3/3.5.5/d3.min.js\", function(){\n",
       "         LDAvis_load_lib(\"https://cdn.rawgit.com/bmabey/pyLDAvis/files/ldavis.v1.0.0.js\", function(){\n",
       "                 new LDAvis(\"#\" + \"ldavis_el297214103278179047071865486\", ldavis_el297214103278179047071865486_data);\n",
       "            })\n",
       "         });\n",
       "}\n",
       "</script>"
      ],
      "text/plain": [
       "<IPython.core.display.HTML object>"
      ]
     },
     "execution_count": 10,
     "metadata": {},
     "output_type": "execute_result"
    }
   ],
   "source": [
    "import pyLDAvis.gensim\n",
    "# plot topics\n",
    "data =  pyLDAvis.gensim.prepare(model, corpus, dictionary)\n",
    "pyLDAvis.display(data)"
   ]
  },
  {
   "cell_type": "code",
   "execution_count": 13,
   "id": "b4980025-5cc0-4c5c-a540-047438b93fdc",
   "metadata": {},
   "outputs": [],
   "source": [
    "# assignment\n",
    "sent_to_cluster = list()\n",
    "for n,doc in enumerate(corpus):\n",
    "    if doc:\n",
    "        cluster = max(model[doc],key=lambda x:x[1])\n",
    "        sent_to_cluster.append(cluster[0])"
   ]
  },
  {
   "cell_type": "code",
   "execution_count": 14,
   "id": "4298346c-aa47-4ea4-b700-cec62c51970a",
   "metadata": {},
   "outputs": [
    {
     "name": "stdout",
     "output_type": "stream",
     "text": [
      "acne.txt : 2 - 500\n",
      "Accuracy: 1.0\n",
      "------\n",
      "anxiety.txt : 0 - 500\n",
      "Accuracy: 1.0\n",
      "------\n",
      "birthcontrol.txt : 2 - 497\n",
      "Accuracy: 0.994\n",
      "------\n",
      "depression.txt : 0 - 500\n",
      "Accuracy: 1.0\n",
      "------\n",
      "pain.txt : 4 - 491\n",
      "Accuracy: 0.982\n",
      "------\n"
     ]
    }
   ],
   "source": [
    "# accuracy\n",
    "from collections import Counter\n",
    "for condition_book, cluster in condition_books_dict.items():\n",
    "    assignments = list()\n",
    "    for real,given in zip(chunk_train_class,sent_to_cluster):\n",
    "        if real == cluster:\n",
    "            assignments.append(given)\n",
    "    most_common,num_most_common = Counter(assignments).most_common(1)[0] # 4, 6 times\n",
    "    print(condition_book,\":\",most_common,\"-\",num_most_common)\n",
    "    print(\"Accuracy:\",num_most_common/limit)\n",
    "    print(\"------\")"
   ]
  },
  {
   "cell_type": "markdown",
   "id": "aa5116e0-76b6-4999-8399-9b13e15324aa",
   "metadata": {},
   "source": [
    "# Text classification"
   ]
  },
  {
   "cell_type": "code",
   "execution_count": 36,
   "id": "c2f9d3dd-44dc-4dbf-b683-b2a0fb6e6f23",
   "metadata": {},
   "outputs": [
    {
     "name": "stdout",
     "output_type": "stream",
     "text": [
      "Number of samples: 3896\n",
      "Number of features: 21412\n"
     ]
    }
   ],
   "source": [
    "from sklearn.feature_extraction.text import CountVectorizer\n",
    "import numpy as np\n",
    "from sklearn.utils import shuffle\n",
    "\n",
    "# Identify :\n",
    "SEARCH_ID = 3\n",
    "vectorizer = CountVectorizer()\n",
    "\n",
    "#initialize and specify minumum number of occurences to avoid untractable number of features\n",
    "#vectorizer = CountVectorizer(min_df = 2) if we want high frequency\n",
    "\n",
    "#create bag of words features\n",
    "X_train = vectorizer.fit_transform(chunks_train)\n",
    "X_test = vectorizer.fit_transform(chunks_test)\n",
    "\n",
    "print('Number of samples:',X_test.toarray().shape[0] + X_train.toarray().shape[0])\n",
    "print('Number of features:',X_train.toarray().shape[1])\n",
    "\n",
    "Y_train = np.array(chunk_train_class) == SEARCH_ID\n",
    "Y_train = Y_train.astype(int) \n",
    "Y_test = np.array(chunk_test_class) == SEARCH_ID\n",
    "Y_test = Y_test.astype(int) \n",
    "\n",
    "#shuffle the data\n",
    "X_train, Y_train = shuffle(X_train, Y_train, random_state=0)"
   ]
  },
  {
   "cell_type": "code",
   "execution_count": 37,
   "id": "ea4b7066-0759-4c15-a472-625461a9ed6c",
   "metadata": {},
   "outputs": [],
   "source": [
    "from sklearn.linear_model import LogisticRegression\n",
    "from sklearn.model_selection import cross_val_score\n",
    "accs = []\n",
    "\n",
    "#the grid of regularization parameter \n",
    "grid = [0.01,0.1,1,10,100,1000,10000]\n",
    "\n",
    "for c in grid:\n",
    "    \n",
    "    #initialize the classifier\n",
    "    clf = LogisticRegression(random_state=0, solver='newton-cg',C = c)\n",
    "    \n",
    "    #crossvalidate\n",
    "    scores = cross_val_score(clf, X_train,Y_train, cv=10)\n",
    "    accs.append(np.mean(scores))"
   ]
  },
  {
   "cell_type": "code",
   "execution_count": 38,
   "id": "c69055b2-a8bf-4b4a-bae1-2b9a083696ed",
   "metadata": {},
   "outputs": [
    {
     "data": {
      "text/plain": [
       "(0.986, 1.0)"
      ]
     },
     "execution_count": 38,
     "metadata": {},
     "output_type": "execute_result"
    },
    {
     "data": {
      "image/png": "[encoded data removed]",
      "text/plain": [
       "<Figure size 432x288 with 1 Axes>"
      ]
     },
     "metadata": {
      "needs_background": "light"
     },
     "output_type": "display_data"
    }
   ],
   "source": [
    "import matplotlib.pyplot as plt\n",
    "plt.plot(accs)\n",
    "plt.xticks(range(len(grid)), grid)\n",
    "plt.xlabel('Regularization parameter \\n (Low - strong regularization, High - weak regularization)')\n",
    "plt.ylabel('Crossvalidation accuracy')\n",
    "plt.ylim([0.986,1])"
   ]
  },
  {
   "cell_type": "code",
   "execution_count": 39,
   "id": "ccd636fc-9ae7-466f-aeae-effc77665deb",
   "metadata": {},
   "outputs": [
    {
     "data": {
      "text/plain": [
       "<2491x21412 sparse matrix of type '<class 'numpy.int64'>'\n",
       "\twith 892058 stored elements in Compressed Sparse Row format>"
      ]
     },
     "execution_count": 39,
     "metadata": {},
     "output_type": "execute_result"
    }
   ],
   "source": [
    "X_train"
   ]
  },
  {
   "cell_type": "code",
   "execution_count": 40,
   "id": "9d5423fe-b166-4c77-93ac-f752b9f5bee5",
   "metadata": {},
   "outputs": [
    {
     "data": {
      "text/plain": [
       "1"
      ]
     },
     "execution_count": 40,
     "metadata": {},
     "output_type": "execute_result"
    }
   ],
   "source": [
    "# lets grab max cross calidation score value index\n",
    "np.array(accs).argmax()"
   ]
  },
  {
   "cell_type": "code",
   "execution_count": 42,
   "id": "c2e858a1-b715-4b67-abf2-5be784f28b80",
   "metadata": {},
   "outputs": [
    {
     "data": {
      "text/plain": [
       "0.1"
      ]
     },
     "execution_count": 42,
     "metadata": {},
     "output_type": "execute_result"
    }
   ],
   "source": [
    "# this is our best regularization value\n",
    "grid[1]"
   ]
  },
  {
   "cell_type": "code",
   "execution_count": 44,
   "id": "9b4df336-f6a3-4f5c-a5c4-01bcbd0dd517",
   "metadata": {},
   "outputs": [
    {
     "ename": "ValueError",
     "evalue": "X has 16564 features, but LogisticRegression is expecting 21412 features as input.",
     "output_type": "error",
     "traceback": [
      "\u001b[1;31m---------------------------------------------------------------------------\u001b[0m",
      "\u001b[1;31mValueError\u001b[0m                                Traceback (most recent call last)",
      "\u001b[1;32m~\\AppData\\Local\\Temp/ipykernel_2972/915294392.py\u001b[0m in \u001b[0;36m<module>\u001b[1;34m\u001b[0m\n\u001b[0;32m      6\u001b[0m \u001b[1;33m\u001b[0m\u001b[0m\n\u001b[0;32m      7\u001b[0m \u001b[1;31m#predict on the test set\u001b[0m\u001b[1;33m\u001b[0m\u001b[1;33m\u001b[0m\u001b[1;33m\u001b[0m\u001b[0m\n\u001b[1;32m----> 8\u001b[1;33m \u001b[0mprint\u001b[0m\u001b[1;33m(\u001b[0m\u001b[1;34m'Accuracy:'\u001b[0m\u001b[1;33m,\u001b[0m\u001b[0mclf\u001b[0m\u001b[1;33m.\u001b[0m\u001b[0mscore\u001b[0m\u001b[1;33m(\u001b[0m\u001b[0mX_test\u001b[0m\u001b[1;33m,\u001b[0m\u001b[0mY_test\u001b[0m\u001b[1;33m)\u001b[0m\u001b[1;33m)\u001b[0m\u001b[1;33m\u001b[0m\u001b[1;33m\u001b[0m\u001b[0m\n\u001b[0m",
      "\u001b[1;32m~\\anaconda3\\envs\\data_science\\lib\\site-packages\\sklearn\\base.py\u001b[0m in \u001b[0;36mscore\u001b[1;34m(self, X, y, sample_weight)\u001b[0m\n\u001b[0;32m    644\u001b[0m         \u001b[1;32mfrom\u001b[0m \u001b[1;33m.\u001b[0m\u001b[0mmetrics\u001b[0m \u001b[1;32mimport\u001b[0m \u001b[0maccuracy_score\u001b[0m\u001b[1;33m\u001b[0m\u001b[1;33m\u001b[0m\u001b[0m\n\u001b[0;32m    645\u001b[0m \u001b[1;33m\u001b[0m\u001b[0m\n\u001b[1;32m--> 646\u001b[1;33m         \u001b[1;32mreturn\u001b[0m \u001b[0maccuracy_score\u001b[0m\u001b[1;33m(\u001b[0m\u001b[0my\u001b[0m\u001b[1;33m,\u001b[0m \u001b[0mself\u001b[0m\u001b[1;33m.\u001b[0m\u001b[0mpredict\u001b[0m\u001b[1;33m(\u001b[0m\u001b[0mX\u001b[0m\u001b[1;33m)\u001b[0m\u001b[1;33m,\u001b[0m \u001b[0msample_weight\u001b[0m\u001b[1;33m=\u001b[0m\u001b[0msample_weight\u001b[0m\u001b[1;33m)\u001b[0m\u001b[1;33m\u001b[0m\u001b[1;33m\u001b[0m\u001b[0m\n\u001b[0m\u001b[0;32m    647\u001b[0m \u001b[1;33m\u001b[0m\u001b[0m\n\u001b[0;32m    648\u001b[0m     \u001b[1;32mdef\u001b[0m \u001b[0m_more_tags\u001b[0m\u001b[1;33m(\u001b[0m\u001b[0mself\u001b[0m\u001b[1;33m)\u001b[0m\u001b[1;33m:\u001b[0m\u001b[1;33m\u001b[0m\u001b[1;33m\u001b[0m\u001b[0m\n",
      "\u001b[1;32m~\\anaconda3\\envs\\data_science\\lib\\site-packages\\sklearn\\linear_model\\_base.py\u001b[0m in \u001b[0;36mpredict\u001b[1;34m(self, X)\u001b[0m\n\u001b[0;32m    423\u001b[0m             \u001b[0mPredicted\u001b[0m \u001b[1;32mclass\u001b[0m \u001b[0mlabel\u001b[0m \u001b[0mper\u001b[0m \u001b[0msample\u001b[0m\u001b[1;33m.\u001b[0m\u001b[1;33m\u001b[0m\u001b[1;33m\u001b[0m\u001b[0m\n\u001b[0;32m    424\u001b[0m         \"\"\"\n\u001b[1;32m--> 425\u001b[1;33m         \u001b[0mscores\u001b[0m \u001b[1;33m=\u001b[0m \u001b[0mself\u001b[0m\u001b[1;33m.\u001b[0m\u001b[0mdecision_function\u001b[0m\u001b[1;33m(\u001b[0m\u001b[0mX\u001b[0m\u001b[1;33m)\u001b[0m\u001b[1;33m\u001b[0m\u001b[1;33m\u001b[0m\u001b[0m\n\u001b[0m\u001b[0;32m    426\u001b[0m         \u001b[1;32mif\u001b[0m \u001b[0mlen\u001b[0m\u001b[1;33m(\u001b[0m\u001b[0mscores\u001b[0m\u001b[1;33m.\u001b[0m\u001b[0mshape\u001b[0m\u001b[1;33m)\u001b[0m \u001b[1;33m==\u001b[0m \u001b[1;36m1\u001b[0m\u001b[1;33m:\u001b[0m\u001b[1;33m\u001b[0m\u001b[1;33m\u001b[0m\u001b[0m\n\u001b[0;32m    427\u001b[0m             \u001b[0mindices\u001b[0m \u001b[1;33m=\u001b[0m \u001b[1;33m(\u001b[0m\u001b[0mscores\u001b[0m \u001b[1;33m>\u001b[0m \u001b[1;36m0\u001b[0m\u001b[1;33m)\u001b[0m\u001b[1;33m.\u001b[0m\u001b[0mastype\u001b[0m\u001b[1;33m(\u001b[0m\u001b[0mint\u001b[0m\u001b[1;33m)\u001b[0m\u001b[1;33m\u001b[0m\u001b[1;33m\u001b[0m\u001b[0m\n",
      "\u001b[1;32m~\\anaconda3\\envs\\data_science\\lib\\site-packages\\sklearn\\linear_model\\_base.py\u001b[0m in \u001b[0;36mdecision_function\u001b[1;34m(self, X)\u001b[0m\n\u001b[0;32m    405\u001b[0m         \u001b[0mcheck_is_fitted\u001b[0m\u001b[1;33m(\u001b[0m\u001b[0mself\u001b[0m\u001b[1;33m)\u001b[0m\u001b[1;33m\u001b[0m\u001b[1;33m\u001b[0m\u001b[0m\n\u001b[0;32m    406\u001b[0m \u001b[1;33m\u001b[0m\u001b[0m\n\u001b[1;32m--> 407\u001b[1;33m         \u001b[0mX\u001b[0m \u001b[1;33m=\u001b[0m \u001b[0mself\u001b[0m\u001b[1;33m.\u001b[0m\u001b[0m_validate_data\u001b[0m\u001b[1;33m(\u001b[0m\u001b[0mX\u001b[0m\u001b[1;33m,\u001b[0m \u001b[0maccept_sparse\u001b[0m\u001b[1;33m=\u001b[0m\u001b[1;34m\"csr\"\u001b[0m\u001b[1;33m,\u001b[0m \u001b[0mreset\u001b[0m\u001b[1;33m=\u001b[0m\u001b[1;32mFalse\u001b[0m\u001b[1;33m)\u001b[0m\u001b[1;33m\u001b[0m\u001b[1;33m\u001b[0m\u001b[0m\n\u001b[0m\u001b[0;32m    408\u001b[0m         \u001b[0mscores\u001b[0m \u001b[1;33m=\u001b[0m \u001b[0msafe_sparse_dot\u001b[0m\u001b[1;33m(\u001b[0m\u001b[0mX\u001b[0m\u001b[1;33m,\u001b[0m \u001b[0mself\u001b[0m\u001b[1;33m.\u001b[0m\u001b[0mcoef_\u001b[0m\u001b[1;33m.\u001b[0m\u001b[0mT\u001b[0m\u001b[1;33m,\u001b[0m \u001b[0mdense_output\u001b[0m\u001b[1;33m=\u001b[0m\u001b[1;32mTrue\u001b[0m\u001b[1;33m)\u001b[0m \u001b[1;33m+\u001b[0m \u001b[0mself\u001b[0m\u001b[1;33m.\u001b[0m\u001b[0mintercept_\u001b[0m\u001b[1;33m\u001b[0m\u001b[1;33m\u001b[0m\u001b[0m\n\u001b[0;32m    409\u001b[0m         \u001b[1;32mreturn\u001b[0m \u001b[0mscores\u001b[0m\u001b[1;33m.\u001b[0m\u001b[0mravel\u001b[0m\u001b[1;33m(\u001b[0m\u001b[1;33m)\u001b[0m \u001b[1;32mif\u001b[0m \u001b[0mscores\u001b[0m\u001b[1;33m.\u001b[0m\u001b[0mshape\u001b[0m\u001b[1;33m[\u001b[0m\u001b[1;36m1\u001b[0m\u001b[1;33m]\u001b[0m \u001b[1;33m==\u001b[0m \u001b[1;36m1\u001b[0m \u001b[1;32melse\u001b[0m \u001b[0mscores\u001b[0m\u001b[1;33m\u001b[0m\u001b[1;33m\u001b[0m\u001b[0m\n",
      "\u001b[1;32m~\\anaconda3\\envs\\data_science\\lib\\site-packages\\sklearn\\base.py\u001b[0m in \u001b[0;36m_validate_data\u001b[1;34m(self, X, y, reset, validate_separately, **check_params)\u001b[0m\n\u001b[0;32m    578\u001b[0m \u001b[1;33m\u001b[0m\u001b[0m\n\u001b[0;32m    579\u001b[0m         \u001b[1;32mif\u001b[0m \u001b[1;32mnot\u001b[0m \u001b[0mno_val_X\u001b[0m \u001b[1;32mand\u001b[0m \u001b[0mcheck_params\u001b[0m\u001b[1;33m.\u001b[0m\u001b[0mget\u001b[0m\u001b[1;33m(\u001b[0m\u001b[1;34m\"ensure_2d\"\u001b[0m\u001b[1;33m,\u001b[0m \u001b[1;32mTrue\u001b[0m\u001b[1;33m)\u001b[0m\u001b[1;33m:\u001b[0m\u001b[1;33m\u001b[0m\u001b[1;33m\u001b[0m\u001b[0m\n\u001b[1;32m--> 580\u001b[1;33m             \u001b[0mself\u001b[0m\u001b[1;33m.\u001b[0m\u001b[0m_check_n_features\u001b[0m\u001b[1;33m(\u001b[0m\u001b[0mX\u001b[0m\u001b[1;33m,\u001b[0m \u001b[0mreset\u001b[0m\u001b[1;33m=\u001b[0m\u001b[0mreset\u001b[0m\u001b[1;33m)\u001b[0m\u001b[1;33m\u001b[0m\u001b[1;33m\u001b[0m\u001b[0m\n\u001b[0m\u001b[0;32m    581\u001b[0m \u001b[1;33m\u001b[0m\u001b[0m\n\u001b[0;32m    582\u001b[0m         \u001b[1;32mreturn\u001b[0m \u001b[0mout\u001b[0m\u001b[1;33m\u001b[0m\u001b[1;33m\u001b[0m\u001b[0m\n",
      "\u001b[1;32m~\\anaconda3\\envs\\data_science\\lib\\site-packages\\sklearn\\base.py\u001b[0m in \u001b[0;36m_check_n_features\u001b[1;34m(self, X, reset)\u001b[0m\n\u001b[0;32m    393\u001b[0m \u001b[1;33m\u001b[0m\u001b[0m\n\u001b[0;32m    394\u001b[0m         \u001b[1;32mif\u001b[0m \u001b[0mn_features\u001b[0m \u001b[1;33m!=\u001b[0m \u001b[0mself\u001b[0m\u001b[1;33m.\u001b[0m\u001b[0mn_features_in_\u001b[0m\u001b[1;33m:\u001b[0m\u001b[1;33m\u001b[0m\u001b[1;33m\u001b[0m\u001b[0m\n\u001b[1;32m--> 395\u001b[1;33m             raise ValueError(\n\u001b[0m\u001b[0;32m    396\u001b[0m                 \u001b[1;34mf\"X has {n_features} features, but {self.__class__.__name__} \"\u001b[0m\u001b[1;33m\u001b[0m\u001b[1;33m\u001b[0m\u001b[0m\n\u001b[0;32m    397\u001b[0m                 \u001b[1;34mf\"is expecting {self.n_features_in_} features as input.\"\u001b[0m\u001b[1;33m\u001b[0m\u001b[1;33m\u001b[0m\u001b[0m\n",
      "\u001b[1;31mValueError\u001b[0m: X has 16564 features, but LogisticRegression is expecting 21412 features as input."
     ]
    }
   ],
   "source": [
    "# write your code here:\n",
    "C_reg = grid[3]\n",
    "\n",
    "\n",
    "clf = LogisticRegression(random_state=0, solver='newton-cg',C = C_reg).fit(X_train,Y_train)\n",
    "\n",
    "#predict on the test set\n",
    "print('Accuracy:',clf.score(X_test,Y_test))"
   ]
  },
  {
   "cell_type": "code",
   "execution_count": 46,
   "id": "4a569a8d-25ca-4ffb-a141-330041c4eb2f",
   "metadata": {},
   "outputs": [
    {
     "data": {
      "text/plain": [
       "(1405, 16564)"
      ]
     },
     "execution_count": 46,
     "metadata": {},
     "output_type": "execute_result"
    }
   ],
   "source": []
  },
  {
   "cell_type": "code",
   "execution_count": null,
   "id": "2c521653-efdc-4d48-a395-450be3fc87db",
   "metadata": {},
   "outputs": [],
   "source": []
  }
 ],
 "metadata": {
  "kernelspec": {
   "display_name": "Python 3 (ipykernel)",
   "language": "python",
   "name": "python3"
  },
  "language_info": {
   "codemirror_mode": {
    "name": "ipython",
    "version": 3
   },
   "file_extension": ".py",
   "mimetype": "text/x-python",
   "name": "python",
   "nbconvert_exporter": "python",
   "pygments_lexer": "ipython3",
   "version": "3.8.12"
  }
 },
 "nbformat": 4,
 "nbformat_minor": 5
}
