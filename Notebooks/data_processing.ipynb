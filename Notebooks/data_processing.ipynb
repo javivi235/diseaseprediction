{
 "cells": [
  {
   "cell_type": "markdown",
   "id": "34480406-5189-4185-ae76-11a418edcc55",
   "metadata": {
    "tags": []
   },
   "source": [
    "# Data Adquisition"
   ]
  },
  {
   "cell_type": "markdown",
   "id": "8ed30796-dc28-420c-9afd-b894fc4ed1a2",
   "metadata": {},
   "source": [
    "We have 2 sources of data to analyze in this project:\n",
    "- [Drugs reviews dataset](https://www.kaggle.com/jessicali9530/kuc-hackathon-winter-2018)\n",
    "- [COVID 19 symptoms Dataset](https://www.kaggle.com/iamhungundji/covid19-symptoms-checker)\n",
    "<br/>\n",
    "Let's download the datasets into a Data folder, this datasets will be included in the gitignore, so  you need to download the datasets as the first step to run the project.<br/>\n",
    "For this we are going to use opendatasets, which will allow us to download datasets from kaggle, when downloading the datasets, you'll need to provide an authentication token related to your kaggle account, you can see more information on:\n",
    "* [Generate Kaggle authentication token](https://www.analyticsvidhya.com/blog/2021/04/how-to-download-kaggle-datasets-using-jupyter-notebook)"
   ]
  },
  {
   "cell_type": "code",
   "execution_count": 35,
   "id": "aaccc582-9df4-460f-8623-035ab2b5deb3",
   "metadata": {},
   "outputs": [
    {
     "name": "stdout",
     "output_type": "stream",
     "text": [
      "Requirement already satisfied: opendatasets in c:\\users\\javi\\anaconda3\\envs\\data_science\\lib\\site-packages (0.1.20)\n",
      "Requirement already satisfied: kaggle in c:\\users\\javi\\anaconda3\\envs\\data_science\\lib\\site-packages (from opendatasets) (1.5.12)\n",
      "Requirement already satisfied: click in c:\\users\\javi\\anaconda3\\envs\\data_science\\lib\\site-packages (from opendatasets) (8.0.3)\n",
      "Requirement already satisfied: tqdm in c:\\users\\javi\\anaconda3\\envs\\data_science\\lib\\site-packages (from opendatasets) (4.62.3)\n",
      "Requirement already satisfied: colorama in c:\\users\\javi\\anaconda3\\envs\\data_science\\lib\\site-packages (from click->opendatasets) (0.4.4)\n",
      "Requirement already satisfied: certifi in c:\\users\\javi\\anaconda3\\envs\\data_science\\lib\\site-packages (from kaggle->opendatasets) (2021.10.8)\n",
      "Requirement already satisfied: python-dateutil in c:\\users\\javi\\anaconda3\\envs\\data_science\\lib\\site-packages (from kaggle->opendatasets) (2.8.2)\n",
      "Requirement already satisfied: six>=1.10 in c:\\users\\javi\\anaconda3\\envs\\data_science\\lib\\site-packages (from kaggle->opendatasets) (1.16.0)\n",
      "Requirement already satisfied: requests in c:\\users\\javi\\anaconda3\\envs\\data_science\\lib\\site-packages (from kaggle->opendatasets) (2.26.0)\n",
      "Requirement already satisfied: urllib3 in c:\\users\\javi\\anaconda3\\envs\\data_science\\lib\\site-packages (from kaggle->opendatasets) (1.26.7)\n",
      "Requirement already satisfied: python-slugify in c:\\users\\javi\\anaconda3\\envs\\data_science\\lib\\site-packages (from kaggle->opendatasets) (5.0.2)\n",
      "Requirement already satisfied: text-unidecode>=1.3 in c:\\users\\javi\\anaconda3\\envs\\data_science\\lib\\site-packages (from python-slugify->kaggle->opendatasets) (1.3)\n",
      "Requirement already satisfied: idna<4,>=2.5 in c:\\users\\javi\\anaconda3\\envs\\data_science\\lib\\site-packages (from requests->kaggle->opendatasets) (3.2)\n",
      "Requirement already satisfied: charset-normalizer~=2.0.0 in c:\\users\\javi\\anaconda3\\envs\\data_science\\lib\\site-packages (from requests->kaggle->opendatasets) (2.0.4)\n",
      "Skipping, found downloaded files in \"../Data\\kuc-hackathon-winter-2018\" (use force=True to force download)\n",
      "Skipping, found downloaded files in \"../Data\\covid19-symptoms-checker\" (use force=True to force download)\n"
     ]
    }
   ],
   "source": [
    "# Install package if it's not already installed\n",
    "!pip install opendatasets\n",
    "import opendatasets as od\n",
    "# Download dataset in Data folder\n",
    "drugs_review_url = \"https://www.kaggle.com/jessicali9530/kuc-hackathon-winter-2018/download\"\n",
    "covid_url = \"https://www.kaggle.com/iamhungundji/covid19-symptoms-checker\"\n",
    "od.download(drugs_review_url,data_dir='../Data')\n",
    "od.download(covid_url,data_dir='../Data')"
   ]
  },
  {
   "cell_type": "markdown",
   "id": "b3145952-1621-44e5-b061-e1456eacac20",
   "metadata": {},
   "source": [
    "# Lets have a look to our datasets!"
   ]
  },
  {
   "cell_type": "code",
   "execution_count": 23,
   "id": "c38925fa-80b0-462a-83a7-a1bd9f2466aa",
   "metadata": {},
   "outputs": [],
   "source": [
    "import pandas as pd\n",
    "import matplotlib.pyplot as plt\n",
    "import numpy as np\n",
    "import seaborn as sns\n",
    "%matplotlib inline"
   ]
  },
  {
   "cell_type": "markdown",
   "id": "1ce7f38e-258e-4537-986a-2d2fac9ecac5",
   "metadata": {
    "tags": []
   },
   "source": [
    "## Drugs review dataset\n",
    "Data is already split on training and testing data, let's import both datasets"
   ]
  },
  {
   "cell_type": "code",
   "execution_count": 2,
   "id": "35b5480b-26db-433e-ab0d-a7e27b5d4cd4",
   "metadata": {},
   "outputs": [
    {
     "data": {
      "text/html": [
       "<div>\n",
       "<style scoped>\n",
       "    .dataframe tbody tr th:only-of-type {\n",
       "        vertical-align: middle;\n",
       "    }\n",
       "\n",
       "    .dataframe tbody tr th {\n",
       "        vertical-align: top;\n",
       "    }\n",
       "\n",
       "    .dataframe thead th {\n",
       "        text-align: right;\n",
       "    }\n",
       "</style>\n",
       "<table border=\"1\" class=\"dataframe\">\n",
       "  <thead>\n",
       "    <tr style=\"text-align: right;\">\n",
       "      <th></th>\n",
       "      <th>uniqueID</th>\n",
       "      <th>drugName</th>\n",
       "      <th>condition</th>\n",
       "      <th>review</th>\n",
       "      <th>rating</th>\n",
       "      <th>date</th>\n",
       "      <th>usefulCount</th>\n",
       "    </tr>\n",
       "  </thead>\n",
       "  <tbody>\n",
       "    <tr>\n",
       "      <th>0</th>\n",
       "      <td>206461</td>\n",
       "      <td>Valsartan</td>\n",
       "      <td>Left Ventricular Dysfunction</td>\n",
       "      <td>\"It has no side effect, I take it in combinati...</td>\n",
       "      <td>9</td>\n",
       "      <td>20-May-12</td>\n",
       "      <td>27</td>\n",
       "    </tr>\n",
       "    <tr>\n",
       "      <th>1</th>\n",
       "      <td>95260</td>\n",
       "      <td>Guanfacine</td>\n",
       "      <td>ADHD</td>\n",
       "      <td>\"My son is halfway through his fourth week of ...</td>\n",
       "      <td>8</td>\n",
       "      <td>27-Apr-10</td>\n",
       "      <td>192</td>\n",
       "    </tr>\n",
       "    <tr>\n",
       "      <th>2</th>\n",
       "      <td>92703</td>\n",
       "      <td>Lybrel</td>\n",
       "      <td>Birth Control</td>\n",
       "      <td>\"I used to take another oral contraceptive, wh...</td>\n",
       "      <td>5</td>\n",
       "      <td>14-Dec-09</td>\n",
       "      <td>17</td>\n",
       "    </tr>\n",
       "    <tr>\n",
       "      <th>3</th>\n",
       "      <td>138000</td>\n",
       "      <td>Ortho Evra</td>\n",
       "      <td>Birth Control</td>\n",
       "      <td>\"This is my first time using any form of birth...</td>\n",
       "      <td>8</td>\n",
       "      <td>3-Nov-15</td>\n",
       "      <td>10</td>\n",
       "    </tr>\n",
       "    <tr>\n",
       "      <th>4</th>\n",
       "      <td>35696</td>\n",
       "      <td>Buprenorphine / naloxone</td>\n",
       "      <td>Opiate Dependence</td>\n",
       "      <td>\"Suboxone has completely turned my life around...</td>\n",
       "      <td>9</td>\n",
       "      <td>27-Nov-16</td>\n",
       "      <td>37</td>\n",
       "    </tr>\n",
       "  </tbody>\n",
       "</table>\n",
       "</div>"
      ],
      "text/plain": [
       "   uniqueID                  drugName                     condition  \\\n",
       "0    206461                 Valsartan  Left Ventricular Dysfunction   \n",
       "1     95260                Guanfacine                          ADHD   \n",
       "2     92703                    Lybrel                 Birth Control   \n",
       "3    138000                Ortho Evra                 Birth Control   \n",
       "4     35696  Buprenorphine / naloxone             Opiate Dependence   \n",
       "\n",
       "                                              review  rating       date  \\\n",
       "0  \"It has no side effect, I take it in combinati...       9  20-May-12   \n",
       "1  \"My son is halfway through his fourth week of ...       8  27-Apr-10   \n",
       "2  \"I used to take another oral contraceptive, wh...       5  14-Dec-09   \n",
       "3  \"This is my first time using any form of birth...       8   3-Nov-15   \n",
       "4  \"Suboxone has completely turned my life around...       9  27-Nov-16   \n",
       "\n",
       "   usefulCount  \n",
       "0           27  \n",
       "1          192  \n",
       "2           17  \n",
       "3           10  \n",
       "4           37  "
      ]
     },
     "execution_count": 2,
     "metadata": {},
     "output_type": "execute_result"
    }
   ],
   "source": [
    "drugs_train = pd.read_csv(\"../Data/kuc-hackathon-winter-2018/drugsComTrain_raw.csv\")\n",
    "drugs_test = pd.read_csv(\"../Data/kuc-hackathon-winter-2018/drugsComTest_raw.csv\")\n",
    "drugs_train.head()"
   ]
  },
  {
   "cell_type": "markdown",
   "id": "f3c20bda-c65d-46f5-8a8d-aab3b33fe701",
   "metadata": {},
   "source": [
    "Our goal is to be able to predict the condition using the rest of the data, we have some features which are useless for this task, such as uniqueID, date and usefulCoun, we are going to drop this features so we can focus on the ones we need."
   ]
  },
  {
   "cell_type": "code",
   "execution_count": 3,
   "id": "fb6ec70b-a7c2-4311-b8f2-924938c0ed4f",
   "metadata": {},
   "outputs": [],
   "source": [
    "drugs_train.drop(['uniqueID', 'date','usefulCount'], axis=1, inplace=True)\n",
    "drugs_test.drop(['uniqueID', 'date','usefulCount'], axis=1, inplace=True)"
   ]
  },
  {
   "cell_type": "markdown",
   "id": "e6014ece-b6ad-4c37-818c-646be2189055",
   "metadata": {},
   "source": [
    "Let's see how many elements we have in our datasets"
   ]
  },
  {
   "cell_type": "code",
   "execution_count": 4,
   "id": "950c4af8-e9ff-4044-94b6-085386a574f3",
   "metadata": {},
   "outputs": [
    {
     "data": {
      "text/plain": [
       "(161297, 4)"
      ]
     },
     "execution_count": 4,
     "metadata": {},
     "output_type": "execute_result"
    }
   ],
   "source": [
    "drugs_train.shape"
   ]
  },
  {
   "cell_type": "code",
   "execution_count": 5,
   "id": "d1b68c94-b6a6-4615-80ea-46ae847b1498",
   "metadata": {},
   "outputs": [
    {
     "data": {
      "text/plain": [
       "(53766, 4)"
      ]
     },
     "execution_count": 5,
     "metadata": {},
     "output_type": "execute_result"
    }
   ],
   "source": [
    "drugs_test.shape"
   ]
  },
  {
   "cell_type": "markdown",
   "id": "aa3101b8-1eda-4b7b-a13a-1026d774f08d",
   "metadata": {},
   "source": [
    "Now let's check if any of these features have missing values"
   ]
  },
  {
   "cell_type": "code",
   "execution_count": 7,
   "id": "a6ed93f1-1440-4b66-ac73-11f31c2e480a",
   "metadata": {},
   "outputs": [
    {
     "data": {
      "text/plain": [
       "'NULL Values'"
      ]
     },
     "metadata": {},
     "output_type": "display_data"
    },
    {
     "data": {
      "text/plain": [
       "drugName       0\n",
       "condition    899\n",
       "review         0\n",
       "rating         0\n",
       "dtype: int64"
      ]
     },
     "metadata": {},
     "output_type": "display_data"
    }
   ],
   "source": [
    "display(\"NULL Values\", drugs_train.isnull().sum())"
   ]
  },
  {
   "cell_type": "code",
   "execution_count": 8,
   "id": "7cffc5f5-8227-4a3f-bf7e-7266ab322c04",
   "metadata": {},
   "outputs": [
    {
     "data": {
      "text/plain": [
       "'NULL Values'"
      ]
     },
     "metadata": {},
     "output_type": "display_data"
    },
    {
     "data": {
      "text/plain": [
       "drugName       0\n",
       "condition    295\n",
       "review         0\n",
       "rating         0\n",
       "dtype: int64"
      ]
     },
     "metadata": {},
     "output_type": "display_data"
    }
   ],
   "source": [
    "display(\"NULL Values\", drugs_test.isnull().sum())"
   ]
  },
  {
   "cell_type": "markdown",
   "id": "d6977e1b-f763-4f8f-bd59-da0ad79a8285",
   "metadata": {},
   "source": [
    "As you can see, we have some null values in our sets, this values go to the condition column, which is the label of our datasset, so we need to rmeove this null rows to procced"
   ]
  },
  {
   "cell_type": "code",
   "execution_count": 9,
   "id": "746ea294-69fd-4301-aa86-e9e6af1369d4",
   "metadata": {},
   "outputs": [],
   "source": [
    "drugs_train.dropna(inplace=True)\n",
    "drugs_test.dropna(inplace=True)"
   ]
  },
  {
   "cell_type": "code",
   "execution_count": 10,
   "id": "a968259a-b528-48e9-bea5-1b6c24a93367",
   "metadata": {},
   "outputs": [
    {
     "data": {
      "text/plain": [
       "'NULL Values'"
      ]
     },
     "metadata": {},
     "output_type": "display_data"
    },
    {
     "data": {
      "text/plain": [
       "drugName     0\n",
       "condition    0\n",
       "review       0\n",
       "rating       0\n",
       "dtype: int64"
      ]
     },
     "metadata": {},
     "output_type": "display_data"
    }
   ],
   "source": [
    "display(\"NULL Values\", drugs_train.isnull().sum())"
   ]
  },
  {
   "cell_type": "code",
   "execution_count": 11,
   "id": "c42210bc-8f90-4ea2-b162-3f2d42091e4d",
   "metadata": {},
   "outputs": [
    {
     "data": {
      "text/plain": [
       "'NULL Values'"
      ]
     },
     "metadata": {},
     "output_type": "display_data"
    },
    {
     "data": {
      "text/plain": [
       "drugName     0\n",
       "condition    0\n",
       "review       0\n",
       "rating       0\n",
       "dtype: int64"
      ]
     },
     "metadata": {},
     "output_type": "display_data"
    }
   ],
   "source": [
    "display(\"NULL Values\", drugs_test.isnull().sum())"
   ]
  },
  {
   "cell_type": "markdown",
   "id": "72c0d16e-5fa2-46c5-8be0-902d232b600b",
   "metadata": {},
   "source": [
    "Let's have a look to the unique values in drug name"
   ]
  },
  {
   "cell_type": "code",
   "execution_count": 12,
   "id": "d21ea5c0-5746-48c9-b1f3-19e73247ae08",
   "metadata": {},
   "outputs": [
    {
     "data": {
      "text/plain": [
       "3                                 Ortho Evra\n",
       "4                   Buprenorphine / naloxone\n",
       "9         Ethinyl estradiol / levonorgestrel\n",
       "11                            L-methylfolate\n",
       "45                   Ledipasvir / sofosbuvir\n",
       "                         ...                \n",
       "161274                           Synvisc-One\n",
       "161279                   Roxicodone Intensol\n",
       "161281                        Armour Thyroid\n",
       "161291                        Junel 1.5 / 30\n",
       "161295                    Thyroid desiccated\n",
       "Name: drugName, Length: 33490, dtype: object"
      ]
     },
     "execution_count": 12,
     "metadata": {},
     "output_type": "execute_result"
    }
   ],
   "source": [
    "drugs_train[drugs_train['drugName'].apply(lambda x: any(not c.isalnum() for c in x))]['drugName']"
   ]
  },
  {
   "cell_type": "markdown",
   "id": "35a2f5f8-b921-48b3-9833-1308fa800d4d",
   "metadata": {},
   "source": [
    "As we can see, there are some special characters which could be a problem on the long term, let's deal first with the drugs with multiple names, for this we will keep the first name replacing it in all the coincidences where the second name appears"
   ]
  },
  {
   "cell_type": "code",
   "execution_count": 13,
   "id": "c2a6615e-0646-4fe8-8022-7f381febb536",
   "metadata": {},
   "outputs": [
    {
     "name": "stdout",
     "output_type": "stream",
     "text": [
      "Empty DataFrame\n",
      "Columns: [drugName, condition, review, rating]\n",
      "Index: []\n",
      "Empty DataFrame\n",
      "Columns: [drugName, condition, review, rating]\n",
      "Index: []\n"
     ]
    }
   ],
   "source": [
    "def replaceSecondName(options, data, column):\n",
    "    #Spliting name1 and name 2\n",
    "    firstName = options.split('/')[0]\n",
    "    secondName = options.split('/')[1]\n",
    "    #replacing name2 with name1 in the column\n",
    "    data[column] = data[column].apply(lambda x:firstName if ('/'+ secondName in x) or x == secondName else x)\n",
    "def cleanColumn(data, column):\n",
    "    # let's decapitalzie all the text and remove white spaces\n",
    "    data[column] = data[column].apply(lambda x: x.lower().replace(' ', ''))\n",
    "    # Some comlumns have multiple names for the same value, like name1 / name2, whe are going to replace this and all name2 occurences with name1\n",
    "    pd.Series(data[data[column].apply(lambda x: '/' in x)][column].unique()).apply(lambda x: replaceSecondName(x, data, column))\n",
    "    # Removing Non-alphabetic characters\n",
    "    data[column] = data[column].apply(lambda x: ''.join([i for i in x if i.isalpha()]))\n",
    "\n",
    "cleanColumn(drugs_train, 'drugName')\n",
    "cleanColumn(drugs_train, 'condition')\n",
    "cleanColumn(drugs_test, 'drugName')\n",
    "cleanColumn(drugs_test, 'condition')"
   ]
  },
  {
   "cell_type": "code",
   "execution_count": 14,
   "id": "fd864579-b8ec-4631-aac1-3048feaf7fb3",
   "metadata": {},
   "outputs": [
    {
     "data": {
      "text/html": [
       "<div>\n",
       "<style scoped>\n",
       "    .dataframe tbody tr th:only-of-type {\n",
       "        vertical-align: middle;\n",
       "    }\n",
       "\n",
       "    .dataframe tbody tr th {\n",
       "        vertical-align: top;\n",
       "    }\n",
       "\n",
       "    .dataframe thead th {\n",
       "        text-align: right;\n",
       "    }\n",
       "</style>\n",
       "<table border=\"1\" class=\"dataframe\">\n",
       "  <thead>\n",
       "    <tr style=\"text-align: right;\">\n",
       "      <th></th>\n",
       "      <th>drugName</th>\n",
       "      <th>condition</th>\n",
       "      <th>review</th>\n",
       "      <th>rating</th>\n",
       "    </tr>\n",
       "  </thead>\n",
       "  <tbody>\n",
       "    <tr>\n",
       "      <th>0</th>\n",
       "      <td>amlodipine</td>\n",
       "      <td>leftventriculardysfunction</td>\n",
       "      <td>\"It has no side effect, I take it in combinati...</td>\n",
       "      <td>9</td>\n",
       "    </tr>\n",
       "    <tr>\n",
       "      <th>1</th>\n",
       "      <td>guanfacine</td>\n",
       "      <td>adhd</td>\n",
       "      <td>\"My son is halfway through his fourth week of ...</td>\n",
       "      <td>8</td>\n",
       "    </tr>\n",
       "    <tr>\n",
       "      <th>2</th>\n",
       "      <td>lybrel</td>\n",
       "      <td>birthcontrol</td>\n",
       "      <td>\"I used to take another oral contraceptive, wh...</td>\n",
       "      <td>5</td>\n",
       "    </tr>\n",
       "    <tr>\n",
       "      <th>3</th>\n",
       "      <td>orthoevra</td>\n",
       "      <td>birthcontrol</td>\n",
       "      <td>\"This is my first time using any form of birth...</td>\n",
       "      <td>8</td>\n",
       "    </tr>\n",
       "    <tr>\n",
       "      <th>4</th>\n",
       "      <td>buprenorphine</td>\n",
       "      <td>opiatedependence</td>\n",
       "      <td>\"Suboxone has completely turned my life around...</td>\n",
       "      <td>9</td>\n",
       "    </tr>\n",
       "  </tbody>\n",
       "</table>\n",
       "</div>"
      ],
      "text/plain": [
       "        drugName                   condition  \\\n",
       "0     amlodipine  leftventriculardysfunction   \n",
       "1     guanfacine                        adhd   \n",
       "2         lybrel                birthcontrol   \n",
       "3      orthoevra                birthcontrol   \n",
       "4  buprenorphine            opiatedependence   \n",
       "\n",
       "                                              review  rating  \n",
       "0  \"It has no side effect, I take it in combinati...       9  \n",
       "1  \"My son is halfway through his fourth week of ...       8  \n",
       "2  \"I used to take another oral contraceptive, wh...       5  \n",
       "3  \"This is my first time using any form of birth...       8  \n",
       "4  \"Suboxone has completely turned my life around...       9  "
      ]
     },
     "execution_count": 14,
     "metadata": {},
     "output_type": "execute_result"
    }
   ],
   "source": [
    "drugs_train.head()"
   ]
  },
  {
   "cell_type": "markdown",
   "id": "0124e34b-39f3-4e6b-b567-85770fbab5db",
   "metadata": {},
   "source": [
    "We've found that there are some columns where the condition or the drugName are fille with blank, let's remove them"
   ]
  },
  {
   "cell_type": "code",
   "execution_count": 15,
   "id": "108ed984-83bb-4f91-a03f-8868a852743e",
   "metadata": {},
   "outputs": [],
   "source": [
    "drugs_train = drugs_train[drugs_train['condition'] != '']\n",
    "drugs_test= drugs_test[drugs_test['condition'] != '']\n",
    "drugs_train = drugs_train[drugs_train['drugName'] != '']\n",
    "drugs_test = drugs_test[drugs_test['drugName'] != '']"
   ]
  },
  {
   "cell_type": "markdown",
   "id": "8c6c0827-caf6-4cf8-9d36-64185ec37e86",
   "metadata": {},
   "source": [
    "Now that we cleaned the label and drugname columns let's check the unique values of these columns"
   ]
  },
  {
   "cell_type": "code",
   "execution_count": 16,
   "id": "443555f7-2b38-4a3e-b5b5-dfe74b07e1ae",
   "metadata": {},
   "outputs": [
    {
     "name": "stdout",
     "output_type": "stream",
     "text": [
      "Unique conditions:  792  Total number of conditions:  159498\n",
      "Unique drugs:  3000  Total number of drugs:  159498\n"
     ]
    }
   ],
   "source": [
    "print('Unique conditions: ', len(drugs_train['condition'].unique()), ' Total number of conditions: ', drugs_train['condition'].shape[0])\n",
    "print('Unique drugs: ', len(drugs_train['drugName'].unique()), ' Total number of drugs: ', drugs_train['drugName'].shape[0])"
   ]
  },
  {
   "cell_type": "markdown",
   "id": "a7c16b5b-19f5-4959-a370-50ec6b73ca91",
   "metadata": {},
   "source": [
    "Let's plot the top 10 most frequent conditions and drugs"
   ]
  },
  {
   "cell_type": "code",
   "execution_count": 32,
   "id": "3879fe8d-0ce4-4c63-b8ad-9ea937c91bb0",
   "metadata": {},
   "outputs": [
    {
     "name": "stdout",
     "output_type": "stream",
     "text": [
      "Percentage of data within th top 10 0.46372995272667994\n"
     ]
    },
    {
     "data": {
      "image/png": "[encoded data removed]",
      "text/plain": [
       "<Figure size 432x288 with 1 Axes>"
      ]
     },
     "metadata": {
      "needs_background": "light"
     },
     "output_type": "display_data"
    }
   ],
   "source": [
    "condition_freq = drugs_train.groupby('condition').count().reset_index().drop(['review','rating'], axis=1).rename(columns={'drugName':'freq'})\n",
    "condition_freq_top10 = condition_freq.sort_values(by=['freq']).tail(10)\n",
    "ax = sns.barplot(x=\"freq\", y=\"condition\", data=condition_freq_top10)\n",
    "print('Percentage of data within th top 10', condition_freq_top10['freq'].sum()/condition_freq['freq'].sum())"
   ]
  },
  {
   "cell_type": "code",
   "execution_count": 33,
   "id": "e5ab53ce-5bd6-434a-9604-1ed47ec47373",
   "metadata": {},
   "outputs": [
    {
     "name": "stdout",
     "output_type": "stream",
     "text": [
      "Percentage of data within th top 10 0.20456055875308782\n"
     ]
    },
    {
     "data": {
      "image/png": "[encoded data removed]",
      "text/plain": [
       "<Figure size 432x288 with 1 Axes>"
      ]
     },
     "metadata": {
      "needs_background": "light"
     },
     "output_type": "display_data"
    }
   ],
   "source": [
    "drug_freq = drugs_train.groupby('drugName').count().reset_index().drop(['review','rating'], axis=1).rename(columns={'condition':'freq'})\n",
    "drug_freq_top10 = drug_freq.sort_values(by=['freq']).tail(10)\n",
    "ax = sns.barplot(x=\"freq\", y=\"drugName\", data=drug_freq_top10)\n",
    "print('Percentage of data within th top 10', drug_freq_top10['freq'].sum()/drug_freq['freq'].sum())"
   ]
  }
 ],
 "metadata": {
  "kernelspec": {
   "display_name": "Python 3 (ipykernel)",
   "language": "python",
   "name": "python3"
  },
  "language_info": {
   "codemirror_mode": {
    "name": "ipython",
    "version": 3
   },
   "file_extension": ".py",
   "mimetype": "text/x-python",
   "name": "python",
   "nbconvert_exporter": "python",
   "pygments_lexer": "ipython3",
   "version": "3.8.12"
  }
 },
 "nbformat": 4,
 "nbformat_minor": 5
}
