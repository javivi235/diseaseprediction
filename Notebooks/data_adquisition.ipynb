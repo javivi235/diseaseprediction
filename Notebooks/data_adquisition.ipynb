{
 "cells": [
  {
   "cell_type": "markdown",
   "id": "94a5b70e-00e3-4136-93ec-40e61213bff0",
   "metadata": {
    "tags": []
   },
   "source": [
    "# Data Adquisition"
   ]
  },
  {
   "cell_type": "markdown",
   "id": "15346b7c-2e71-4b7d-92b2-5f97b1eb04d9",
   "metadata": {},
   "source": [
    "We have 2 sources of data to analyze in this project:\n",
    "- [Drugs reviews dataset](https://www.kaggle.com/jessicali9530/kuc-hackathon-winter-2018)\n",
    "- [COVID 19 symptoms Dataset](https://www.kaggle.com/iamhungundji/covid19-symptoms-checker)\n",
    "<br/>\n",
    "Let's download the datasets into a Data folder, this datasets will be included in the gitignore, so  you need to download the datasets as the first step to run the project.<br/>\n",
    "For this we are going to use opendatasets, which will allow us to download datasets from kaggle, when downloading the datasets, you'll need to provide an authentication token related to your kaggle account, you can see more information on:\n",
    "* [Generate Kaggle authentication token](https://www.analyticsvidhya.com/blog/2021/04/how-to-download-kaggle-datasets-using-jupyter-notebook)"
   ]
  },
  {
   "cell_type": "code",
   "execution_count": 1,
   "id": "fce249e7-33f6-42ff-9022-16ba2d0fff19",
   "metadata": {},
   "outputs": [
    {
     "name": "stdout",
     "output_type": "stream",
     "text": [
      "Requirement already satisfied: opendatasets in c:\\users\\javi\\anaconda3\\envs\\data_science\\lib\\site-packages (0.1.20)\n",
      "Requirement already satisfied: click in c:\\users\\javi\\anaconda3\\envs\\data_science\\lib\\site-packages (from opendatasets) (8.0.3)\n",
      "Requirement already satisfied: kaggle in c:\\users\\javi\\anaconda3\\envs\\data_science\\lib\\site-packages (from opendatasets) (1.5.12)\n",
      "Requirement already satisfied: tqdm in c:\\users\\javi\\anaconda3\\envs\\data_science\\lib\\site-packages (from opendatasets) (4.62.3)\n",
      "Requirement already satisfied: colorama in c:\\users\\javi\\anaconda3\\envs\\data_science\\lib\\site-packages (from click->opendatasets) (0.4.4)\n",
      "Requirement already satisfied: python-slugify in c:\\users\\javi\\anaconda3\\envs\\data_science\\lib\\site-packages (from kaggle->opendatasets) (5.0.2)\n",
      "Requirement already satisfied: requests in c:\\users\\javi\\anaconda3\\envs\\data_science\\lib\\site-packages (from kaggle->opendatasets) (2.26.0)\n",
      "Requirement already satisfied: python-dateutil in c:\\users\\javi\\anaconda3\\envs\\data_science\\lib\\site-packages (from kaggle->opendatasets) (2.8.2)\n",
      "Requirement already satisfied: certifi in c:\\users\\javi\\anaconda3\\envs\\data_science\\lib\\site-packages (from kaggle->opendatasets) (2021.10.8)\n",
      "Requirement already satisfied: six>=1.10 in c:\\users\\javi\\anaconda3\\envs\\data_science\\lib\\site-packages (from kaggle->opendatasets) (1.16.0)\n",
      "Requirement already satisfied: urllib3 in c:\\users\\javi\\anaconda3\\envs\\data_science\\lib\\site-packages (from kaggle->opendatasets) (1.26.7)\n",
      "Requirement already satisfied: text-unidecode>=1.3 in c:\\users\\javi\\anaconda3\\envs\\data_science\\lib\\site-packages (from python-slugify->kaggle->opendatasets) (1.3)\n",
      "Requirement already satisfied: idna<4,>=2.5 in c:\\users\\javi\\anaconda3\\envs\\data_science\\lib\\site-packages (from requests->kaggle->opendatasets) (3.2)\n",
      "Requirement already satisfied: charset-normalizer~=2.0.0 in c:\\users\\javi\\anaconda3\\envs\\data_science\\lib\\site-packages (from requests->kaggle->opendatasets) (2.0.4)\n",
      "Skipping, found downloaded files in \"../Data\\kuc-hackathon-winter-2018\" (use force=True to force download)\n",
      "Skipping, found downloaded files in \"../Data\\covid19-symptoms-checker\" (use force=True to force download)\n"
     ]
    }
   ],
   "source": [
    "# Install package if it's not already installed\n",
    "!pip install opendatasets\n",
    "import opendatasets as od\n",
    "# Download dataset in Data folder\n",
    "drugs_review_url = \"https://www.kaggle.com/jessicali9530/kuc-hackathon-winter-2018/download\"\n",
    "covid_url = \"https://www.kaggle.com/iamhungundji/covid19-symptoms-checker\"\n",
    "od.download(drugs_review_url,data_dir='../Data')\n",
    "od.download(covid_url,data_dir='../Data')"
   ]
  },
  {
   "cell_type": "markdown",
   "id": "ce0f01d2-052a-4915-b77c-68bd6b88dbf9",
   "metadata": {},
   "source": [
    "Now we are ready to start, please continue in data_processing.ipynb"
   ]
  }
 ],
 "metadata": {
  "kernelspec": {
   "display_name": "Python 3 (ipykernel)",
   "language": "python",
   "name": "python3"
  },
  "language_info": {
   "codemirror_mode": {
    "name": "ipython",
    "version": 3
   },
   "file_extension": ".py",
   "mimetype": "text/x-python",
   "name": "python",
   "nbconvert_exporter": "python",
   "pygments_lexer": "ipython3",
   "version": "3.8.12"
  }
 },
 "nbformat": 4,
 "nbformat_minor": 5
}
